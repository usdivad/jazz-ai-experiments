{
 "cells": [
  {
   "cell_type": "markdown",
   "metadata": {},
   "source": [
    "# Generating melody *and* harmony using LSTMs\n",
    "\n",
    "*** NOTE: This does the same thing as the [`melody_harmony_tag_lstm.ipynb`](melody_harmony_tag_lstm.ipynb) notebook, except that here we use the `jazzaiexperiments` module instead of defining everything inside the notebook itself. ***\n",
    "\n",
    "Again, using data from the Weimar Jazz Database. This time we make use of the beat onset and chord information from the database in addition to the converted MIDI files.\n",
    "\n",
    "Audio examples live at https://soundcloud.com/usdivad/sets/jazz-ai-experiments under \"melody + harmony tag\"; links to individual tracks are at the bottom of this notebook."
   ]
  },
  {
   "cell_type": "markdown",
   "metadata": {},
   "source": [
    "## Approach #1: Add underlying harmony directly to note events"
   ]
  },
  {
   "cell_type": "markdown",
   "metadata": {},
   "source": [
    "Import everything we need:"
   ]
  },
  {
   "cell_type": "code",
   "execution_count": 1,
   "metadata": {
    "collapsed": false
   },
   "outputs": [
    {
     "name": "stderr",
     "output_type": "stream",
     "text": [
      "Using TensorFlow backend.\n"
     ]
    }
   ],
   "source": [
    "import os\n",
    "import jazzaiexperiments"
   ]
  },
  {
   "cell_type": "markdown",
   "metadata": {},
   "source": [
    "### Putting it all together"
   ]
  },
  {
   "cell_type": "markdown",
   "metadata": {},
   "source": [
    "Train the model:"
   ]
  },
  {
   "cell_type": "code",
   "execution_count": 2,
   "metadata": {
    "collapsed": false
   },
   "outputs": [],
   "source": [
    "tune_name, time_multiplier, num_notes_to_generate = (\"JohnColtrane_GiantSteps-1_FINAL\", 2.5, 200)\n",
    "beats_filepath = jazzaiexperiments.db.construct_filepath(tune_name, \"beats\")\n",
    "melody_filepath = jazzaiexperiments.db.construct_filepath(tune_name, \"melody\")"
   ]
  },
  {
   "cell_type": "code",
   "execution_count": 3,
   "metadata": {
    "collapsed": false,
    "scrolled": true
   },
   "outputs": [
    {
     "name": "stdout",
     "output_type": "stream",
     "text": [
      "Created 1127 note events from ../data/midi/quantized/JohnColtrane_GiantSteps-1_FINAL.mid using mode single_melody_harmony\n",
      "Formatted note data (1117 seqs of length 10, 601 unique notes)\n",
      "Created model\n",
      "No weights loaded (to load weights, specify a `weights_filepath`)\n",
      "Epoch 1/1\n",
      "1088/1117 [============================>.] - ETA: 0s - loss: 6.3648 \b\b\b\b\b\b\b\b\b\b\b\b\b\b\b\b\b\b\b\b\b\b\b\b\b\b\b\b\b\b\b\b\b\b\b\b\b\b\b\b\b\b\b\b\b\b\b\b\b\b\b\b\b\b\b\b\b\b\b\b\b\b\b\b\b\b\b\b\b\b\b\b\b\b\b\b\b\b\b\b\b\b\b\b\b\b\b\b\b\b\b\b\b\b\b\b\b\b\b\b\b\b\b\b\b\b\b\b\b\b\b\b\b\b\b\b\b\b\b\b\b\b\b\b\b\b\b\b\b\b\b\b\b\b\b\b\b\b\b\b\b\b\b\b\b\b\b\b\b\b\b\b\b\b\b\b\b\b\b\b\b\b\b\b\b\b\b\b\b\b\b\b\b\b\b\b\b\b\b\b\b\b\b\b\b\b\b\b\b\b\b\b\b\b\b\b\b\b\b\b\b\b\b\b\b\b\b\b\b\b\b\b\b\b\b\b\b\b\b\b\b\b\b\b\b\b\b\b\b\b\b\b\b\b\b\b\b\b\b\b\b\b\b\b\b\b\b\b\b\b\b\b\b\b\b\b\b\b\b\b\b\b\b\b\b\b\b\b\b\b\b\b\b\b\b\b\b\b\b\b\b\b\b\b\b\b\b\b\b\b\b\b\b\b\b\b\b\b\b\b\b\b\b\b\b\b\b\b\b\b\b\b\b\b\b\b\b\b\b\b\b\b\b\b\b\b\b\b\b\b\b\b\b\b\b\b\b\b\b\b\b\b\b\b\b\b\b\b\b\b\b\b\b\b\b\b\b\b\b\b\b\b\b\b\b\b\b\b\b\b\b\b\b\b\b\b\b\b\b\b\b\b\b\b\b\b\b\b\b\b\b\b\b\b\b\b\b\b\b\b\b\b\b\b\b\b\b\b\b\b\b\b\b\b\b\b\b\b\b\b\b\b\b\b\b\b\b\b\b\b\b\b\b\b\b\b\b\b\b\b\b\b\b\b\b\b\b\b\b\b\b\b\b\b\b\b\b\b\b\b\b\b\b\b\b\b\b\b\b\b\b\b\b\b\b\b\b\b\b\b\b\b\b\b\b\b\b\b\b\b\b\b\b\b\b\b\b\b\b\b\b\b\b\b\b\b\b\b\b\b\b\b\b\b\b\b\b\b\b\b\b\b\b\b\b\b\b\b\b\b\b\b\b\b\b\b\b\b\b\b\b\b\b\b\b\b\b\b\b\b\b\b\b\b\b\b\b\b\b\b\b\b\b\b\b\b\b\b\b\b\b\b\b\b\b\b\b\b\b\b\b\b\b\b\b\b\b\b\b\b\b\b\b\b\b\b\b\b\b\b\b\b\b\b\b\b\b\b\b\b\b\b\b\b\b\b\b\b\b\b\b\b\b\b\b\b\b\b\b\b\b\b\b\b\b\b\b\b\b\b\b\b\b\b\b\b\b\b\b\b\b\b\b\b\b\b\b\b\b\b\b\b\b\b\b\b\b\b\b\b\b\b\b\b\b\b\b\b\b\b\b\b\b\b\b\b\b\b\b\b\b\b\b\b\b\b\b\b\b\b\b\b\b\b\b\b\b\b\b\b\b\b\b\b\b\b\b\b\b\b\b\b\b\b\b\b\b\b\b\b\b\b\b\b\b\b\b\b\b\b\b\b\b\b\b\b\b\b\b\b\b\b\b\b\b\b\b\b\b\b\b\b\b\b\b\b\b\b\b\b\b\b\b\b\b\b\b\b\b\b\b\b\b\b\b\b\b\b\b\b\b\b\b\b\b\b\b\b\b\b\b\b\b\b\b\b\b\b\b\b\b\b\b\b\b\b\b\b\b\b\b\b\b\b\b\b\b\b\b\b\b\b\b\b\b\b\b\b\b\b\b\b\b\b\b\b\b\b\b\b\b\b\b\b\b\b\b\b\b\b\b\b\b\b\b\b\b\b\b\b\b\b\b\b\b\b\b\b\b\b\b\b\b\b\b\b\b\b\b\b\b\b\b\b\b\b\b\b\b\b\b\b\b\b\b\b\b\b\b\b\b\b\b\b\b\b\b\b\b\b\b\b\b\b\b\b\b\b\b\b\b\b\b\b\b\b\b\b\b\b\b\b\b\b\b\b\b\b\b\b\b\b\b\b\b\b\b\b\b\b\b\b\b\b\b\b\b\b\b\b\b\b\b\b\b\b\b\b\b\b\b\b\b\b\b\b\b\b\b\b\b\b\b\b\b\b\b\b\b\b\b\b\b\b\b\b\b\b\b\b\b\b\b\b\b\b\b\b\b\b\b\b\b\b\b\b\b\b\b\b\b\b\b\b\b\b\b\b\b\b\b\b\b\b\b\b\b\b\b\b\b\b\b\b\b\b\b\b\b\b\b\b\b\b\b\b\b\b\b\b\b\b\b\b\b\b\b\b\b\b\b\b\b\b\b\b\b\b\b\b\b\b\b\b\b\b\b\b\b\b\b\b\b\b\b\b\b\b\b\b\b\b\b\b\b\b\b\b\b\b\b\b\b\b\b\b\b\b\b\b\b\b\b\b\b\b\b\b\b\b\b\b\b\b\b\b\b\b\b\b\b\b\b\b\b\b\b\b\b\b\b\b\b\b\b\b\b\b\b\b\b\b\b\b\b\b\b\b\b\b\b\b\b\b\b\b\b\b\b\b\b\b\b\b\b\b\b\b\b\b\b\b\b\b\b\b\b\b\b\b\b\b\b\b\b\b\b\b\b\b\b\b\b\b\b\b\b\b\b\b\b\b\b\b\b\b\b\b\b\b\b\b\b\b\b\b\b\b\b\b\b\b\b\b\b\b\b\b\b\b\b\b\b\b\b\b\b\b\b\b\b\b\b\b\b\b\b\b\b\b\b\b\b\b\b\b\b\b\b\b\b\b\b\b\b\b\b\b\b\b\b\b\b\b\b\b\b\b\b\b\b\b\b\b\b\b\b\b\b\b\b\b\b\b\b\b\b\b\b\b\b\b\b\b\b\b\b\b\b\b\b\b\b\b\b\b\b\b\b\b\b\b\b\b\b\b\b\b\b\b\b\b\b\b\b\b\b\b\b\b\b\b\b\b\b\b\b\b\b\b\b\b\b\b\b\b\b\b\b\b\b\b\b\b\b\b\b\b\b\b\b\b\b\b\b\b\b\b\b\b\b\b\b\b\b\b\b\b\b\b\b\b\b\b\b\b\b\b\b\b\b\b\b\b\b\b\b\b\b\b\b\b\b\b\b\b\b\b\b\b\b\b\b\b\b\b\b\b\b\b\b\b\b\b\b\b\b\b\b\b\b\b\b\b\b\b\b\b\b\b\b\b\b\b\b\b\b\b\b\b\b\b\b\b\b\b\b\b\b\b\b\b\b\b\b\b\b\b\b\b\b\b\b\b\b\b\b\b\b\b\b\b\b\b\b\b\b\b\b\b\b\b\b\b\b\b\b\b\b\b\b\b\b\b\b\b\b\b\b\b\b\b\b\b\b\b\b\b\b\b\b\b\b\b\b\b\b\b\b\b\b\b\b\b\b\b\b\b\b\b\b\b\b\b\b\b\b\b\b\b\b\b\b\b\b\b\b\b\b\b\b\b\b\b\b\b\b\b\b\b\b\b\b\b\b\b\b\b\b\b\b\b\b\b\b\b\b\b\b\b\b\b\b\b\b\b\b\b\b\b\b\b\b\b\b\b\b\b\b\b\b\b\b\b\b\b\b\b\b\b\b\b\b\b\b\b\b\b\b\b\b\b\b\b\b\b\b\b\b\b\b\b\b\b\b\b\b\b\b\b\b\b\b\b\b\b\b\b\b\b\b\b\b\b\b\b\b\b\b\b\b\b\b\b\b\b\b\b\b\b\b\b\b\b\b\b\b\b\b\b\b\b\b\b\b\b\b\b\b\b\b\b\b\b\b\b\b\b\b\b\b\b\b\b\b\b\b\b\b\b\b\b\b\b\b\b\b\b\b\b\b\b\b\b\b\b\b\b\b\b\b\b\b\b\b\b\b\b\b\b\b\b\b\b\b\b\b\b\b\b\b\b\b\b\b\b\b\b\b\b\b\b\b\b\b\b\b\b\b\b\b\b\b\b\b\b\b\b\b\b\b\b\b\b\b\b\b\b\b\b\b\b\b\b\b\b\b\b\b\b\b\b\b\b\b\b\b\b\b\b\b\b\b\b\b\b\b\b\b\b\b\b\b\b\b\b\b\b\b\b\b\b\b\b\b\b\b\b\b\b\b\b\b\b\b\b\b\b\b\b\b\b\b\b\b\b\b\b\b\b\b\b\b\b\b\b\b\b\b\b\b\b\b\b\b\b\b\b\b\b\b\b\b\b\b\b\b\b\b\b\b\b\b\b\b\b\b\b\b\b\b\b\b\b\b\b\b\b\b\b\b\b\b\b\b\b\b\b\b\b\b\b\b\b\b\b\b\b\b\b\b\b\b\b\b\b\b\b\b\b\b\b\b\b\b\b\b\b\b\b\b\b\b\b\b\b\b\b\b\b\b\b\b\b\b\b\b\b\b\b\b\b\b\b\b\b\b\b\b\b\b\b\b\b\b\b\b\b\b\b\b\b\b\b\b\b\b\b\b\b\b\b\b\b\b\b\b\b\b\b\b\b\b\b\b\b\b\b\b\b\b\b\b\b\b\b\b\b\b\b\b\b\b\b\b\b\b\b\b\b\b\b\b\b\b\b\b\b\b\b\b\b\b\b\b\b\b\b\b\b\b\b\b\b\b\b\b\b\b\b\b\b\b\b\b\b\b\b\b\b\b\b\b\b\b\b\b\b\b\b\b\b\b\b\b\b\b\b\b\b\b\b\b\b\b\b\b\b\b\b\b\b\b\b\b\b\b\b\b\b\b\b\b\b\b\b\b\b\b\b\b\b\b\b\b\b\b\b\b\b\b\b\b\b\b\b\b\b\b\b\b\b\b\b\b\b\b\b\b\b\b\b\b\b\b\b\b\bEpoch 00000: loss improved from inf to 6.36085, saving model to ../data/models/weights_JohnColtrane_GiantSteps-1_FINAL_20170705214842274540_00_6.3609.hdf5\n",
      "1117/1117 [==============================] - 5s - loss: 6.3609     \n",
      "Trained model over 1 epochs\n"
     ]
    }
   ],
   "source": [
    "trained = jazzaiexperiments.lstm.train_on_midi_input(tune_name=tune_name,\n",
    "                                                     mode=\"single_melody_harmony\",\n",
    "                                                     midi_data_dir=\"../data/midi/quantized/\",\n",
    "                                                     db_beats_filepath=beats_filepath,\n",
    "                                                     db_melody_filepath=melody_filepath,\n",
    "                                                     seq_length=10,\n",
    "                                                     num_epochs=1)\n",
    "model, note_events, input_filepath = trained"
   ]
  },
  {
   "cell_type": "markdown",
   "metadata": {},
   "source": [
    "Load weights ay:"
   ]
  },
  {
   "cell_type": "code",
   "execution_count": 4,
   "metadata": {
    "collapsed": false
   },
   "outputs": [
    {
     "data": {
      "text/plain": [
       "<keras.models.Sequential at 0x11398c128>"
      ]
     },
     "execution_count": 4,
     "metadata": {},
     "output_type": "execute_result"
    }
   ],
   "source": [
    "jazzaiexperiments.lstm.load_model_weights(model, \"../data/models/weights_JohnColtrane_GiantSteps-1_FINAL_20170703181128071625_99_0.7281.hdf5\")"
   ]
  },
  {
   "cell_type": "markdown",
   "metadata": {},
   "source": [
    "Use the model to generate some notes:"
   ]
  },
  {
   "cell_type": "code",
   "execution_count": 5,
   "metadata": {
    "collapsed": false
   },
   "outputs": [
    {
     "name": "stdout",
     "output_type": "stream",
     "text": [
      "Constructed input sequence: [154, 254, 395, 529, 475, 395, 313, 212, 106, 186]\n",
      "Generated 200 notes\n",
      "Wrote to MIDI file at ../data/output/out_JohnColtrane_GiantSteps-1_FINAL_20170705214855015292.mid\n"
     ]
    },
    {
     "data": {
      "text/plain": [
       "[(61, 110, 0, 96, 'NC'),\n",
       " (64, 110, 0, 96, 'NC'),\n",
       " (68, 110, 0, 96, 'NC'),\n",
       " (71, 120, 0, 96, 'NC'),\n",
       " (70, 110, 0, 288, 'NC'),\n",
       " (68, 110, 0, 96, 'NC'),\n",
       " (66, 110, 0, 96, 'Cbj7'),\n",
       " (63, 110, 0, 96, 'Cbj7'),\n",
       " (59, 100, 0, 240, 'Cbj7'),\n",
       " (62, 110, 0, 96, 'D7'),\n",
       " (64, 110, 0, 48, 'D7'),\n",
       " (66, 100, 0, 96, 'D7'),\n",
       " (69, 110, 0, 96, 'D7'),\n",
       " (67, 110, 0, 96, 'Gj7'),\n",
       " (62, 100, 0, 96, 'Gj7'),\n",
       " (59, 100, 0, 96, 'Gj7'),\n",
       " (59, 100, 0, 96, 'Bb7'),\n",
       " (56, 110, 0, 96, 'Bb7'),\n",
       " (55, 100, 0, 96, 'Bb7'),\n",
       " (53, 100, 0, 96, 'Bb7')]"
      ]
     },
     "execution_count": 5,
     "metadata": {},
     "output_type": "execute_result"
    }
   ],
   "source": [
    "notes_out, output_filepath = jazzaiexperiments.lstm.generate_midi_output(model, note_events,\n",
    "                                                                         mode=\"single_melody_harmony\",\n",
    "                                                                         num_notes_to_generate=num_notes_to_generate,\n",
    "                                                                         random_seed=False,\n",
    "                                                                         add_seed_to_output=True,\n",
    "                                                                         tune_name=tune_name,\n",
    "                                                                         time_multiplier=time_multiplier,\n",
    "                                                                         midi_source_filepath=input_filepath,\n",
    "                                                                         data_dir=\"../data/output\")\n",
    "notes_out[:20]"
   ]
  },
  {
   "cell_type": "code",
   "execution_count": 6,
   "metadata": {
    "collapsed": false
   },
   "outputs": [],
   "source": [
    "# Trying to do MIDI -> mp3 conversion directly in notebook\n",
    "# %%bash -s \"$output_filepath\"\n",
    "# source ~/.bash_profile\n",
    "# miditomp3 $1"
   ]
  },
  {
   "cell_type": "code",
   "execution_count": 7,
   "metadata": {
    "collapsed": false
   },
   "outputs": [],
   "source": [
    "# Play the MIDI file here\n",
    "# music21.converter.parse(\"../data/output/out_ColemanHawkins_BodyAndSoul_FINAL_20170703163206182499.mid\").show(\"midi\")"
   ]
  },
  {
   "cell_type": "markdown",
   "metadata": {},
   "source": [
    "Load multiple weights and generate output for each of them (so we can compare):"
   ]
  },
  {
   "cell_type": "code",
   "execution_count": 8,
   "metadata": {
    "collapsed": false
   },
   "outputs": [
    {
     "name": "stdout",
     "output_type": "stream",
     "text": [
      "No weights found for tune JohnColtrane_GiantSteps-1_FINAL\n",
      "Done writing\n"
     ]
    }
   ],
   "source": [
    "weights_filepaths = []\n",
    "\n",
    "if tune_name == \"ColemanHawkins_BodyAndSoul_FINAL\":  # Coleman Hawkins - Body and Soul\n",
    "    weights_filepaths = [\"weights_ColemanHawkins_BodyAndSoul_FINAL_20170703162618875647_00_6.3755.hdf5\",\n",
    "                         \"weights_ColemanHawkins_BodyAndSoul_FINAL_20170703162618875647_09_5.4847.hdf5\",\n",
    "                         \"weights_ColemanHawkins_BodyAndSoul_FINAL_20170703162618875647_49_1.5432.hdf5\",\n",
    "                         \"weights_ColemanHawkins_BodyAndSoul_FINAL_20170703162618875647_99_0.4374.hdf5\",\n",
    "                         \"weights_ColemanHawkins_BodyAndSoul_FINAL_20170703165925088780_146_0.2167.hdf5\"]\n",
    "\n",
    "elif tune_name == \"JohnColtrane_GiantSteps_FINAL\":  # John Coltrane - Giant Steps\n",
    "    weights_filepaths = [\"weights_JohnColtrane_GiantSteps-1_FINAL_20170703180209718872_00_6.3668.hdf5\",\n",
    "                         \"weights_JohnColtrane_GiantSteps-1_FINAL_20170703181128071625_09_5.7838.hdf5\",\n",
    "                         \"weights_JohnColtrane_GiantSteps-1_FINAL_20170703181128071625_49_2.0546.hdf5\",\n",
    "                         \"weights_JohnColtrane_GiantSteps-1_FINAL_20170703181128071625_99_0.7281.hdf5\"]\n",
    "\n",
    "elif tune_name == \"CharlieParker_DonnaLee_FINAL\":  # Charlie Parker - Donna Lee\n",
    "    weights_filepaths = [\"weights_CharlieParker_DonnaLee_FINAL_20170703185151689429_00_5.7642.hdf5\",\n",
    "                         \"weights_CharlieParker_DonnaLee_FINAL_20170703185151689429_09_5.1143.hdf5\",\n",
    "                         \"weights_CharlieParker_DonnaLee_FINAL_20170703185151689429_49_1.6850.hdf5\",\n",
    "                         \"weights_CharlieParker_DonnaLee_FINAL_20170703185151689429_91_0.8709.hdf5\"]\n",
    "else:\n",
    "    print(\"No weights found for tune {}\".format(tune_name))\n",
    "\n",
    "weights_filepaths = [os.path.join(\"../data/models/\", path) for path in weights_filepaths]\n",
    "\n",
    "for weights_filepath in weights_filepaths:\n",
    "    jazzaiexperiments.lstm.load_weights(model, weights_filepath)\n",
    "    print(\"Loaded weights from {}\".format(weights_filepath))\n",
    "\n",
    "    output = jazzaiexperiments.lstm.generate_midi_output(model, note_events,\n",
    "                                                         mode=\"single_melody_harmony\",\n",
    "                                                         num_notes_to_generate=num_notes_to_generate,\n",
    "                                                         random_seed=False,\n",
    "                                                         add_seed_to_output=True,\n",
    "                                                         tune_name=tune_name,\n",
    "                                                         time_multiplier=time_multiplier,\n",
    "                                                         midi_source_filepath=input_filepath,\n",
    "                                                         data_dir=\"../data/output\")\n",
    "print(\"Done writing\")"
   ]
  },
  {
   "cell_type": "markdown",
   "metadata": {},
   "source": [
    "Render the original input notes with chords:"
   ]
  },
  {
   "cell_type": "code",
   "execution_count": 9,
   "metadata": {
    "collapsed": false
   },
   "outputs": [
    {
     "data": {
      "text/plain": [
       "'../data/output/JohnColtrane_GiantSteps-1_FINAL_original.mid'"
      ]
     },
     "execution_count": 9,
     "metadata": {},
     "output_type": "execute_result"
    }
   ],
   "source": [
    "jazzaiexperiments.midi.write_file(note_events, os.path.join(\"../data/output/\", \"{}_original.mid\".format(tune_name)),\n",
    "                                  mode=\"single_melody_harmony\",\n",
    "                                  time_multiplier=time_multiplier,\n",
    "                                  midi_source_filepath=input_filepath)\n",
    "# print(\"Wrote to MIDI file at {}\".format(output_filepath))"
   ]
  },
  {
   "cell_type": "markdown",
   "metadata": {},
   "source": [
    "(\n",
    "\n",
    "Run this whenever we want to train the model even further (but don't forget to update the `weights_filepath`):"
   ]
  },
  {
   "cell_type": "code",
   "execution_count": 10,
   "metadata": {
    "collapsed": false
   },
   "outputs": [],
   "source": [
    "# trained = jazzaiexperiments.lstm.train_on_midi_input(tune_name=tune_name,\n",
    "#                                                      mode=\"single_melody_harmony\",\n",
    "#                                                      midi_data_dir=\"../data/midi/quantized/\",\n",
    "#                                                      db_beats_filepath=beats_filepath,\n",
    "#                                                      db_melody_filepath=melody_filepath,\n",
    "#                                                      weights_filepath=None,\n",
    "#                                                      seq_length=10,\n",
    "#                                                      num_epochs=100)\n",
    "# model, note_events, input_filepath = trained"
   ]
  },
  {
   "cell_type": "markdown",
   "metadata": {},
   "source": [
    ")"
   ]
  },
  {
   "cell_type": "markdown",
   "metadata": {},
   "source": [
    "### Audio examples\n",
    "\n",
    "Method:\n",
    "- LSTM with 256 units in input layer, 1 hidden layer with 256 units, sequence length of 10 notes\n",
    "- Each MIDI note is \"tagged\" with the chord that it was originally played over\n",
    "- Seeded with the first 10 notes of the original transcription (which are prepended to the output)\n",
    "\n",
    "Using Coleman Hawkins - Body and Soul:\n",
    "- 10 epochs: https://soundcloud.com/usdivad/jazz-ai-experiments-lstm-melody-harmony-tag-coleman-hawkins-body-and-soul-10-epochs\n",
    "- 50 epochs: https://soundcloud.com/usdivad/jazz-ai-experiments-lstm-melody-harmony-tag-coleman-hawkins-body-and-soul-50-epochs\n",
    "- 100 epochs: https://soundcloud.com/usdivad/jazz-ai-experiments-lstm-melody-harmony-tag-coleman-hawkins-body-and-soul-100-epochs\n",
    "\n",
    "Using John Coltrane - Giant Steps:\n",
    "- 50 epochs: https://soundcloud.com/usdivad/jazz-ai-experiments-lstm-melody-harmony-tag-john-coltrane-giant-steps-50-epochs\n",
    "- 100 epochs: https://soundcloud.com/usdivad/jazz-ai-experiments-lstm-melody-harmony-tag-john-coltrane-giant-steps-100-epochs\n",
    "\n"
   ]
  },
  {
   "cell_type": "markdown",
   "metadata": {},
   "source": [
    "*TODO: Discuss the results*"
   ]
  },
  {
   "cell_type": "code",
   "execution_count": null,
   "metadata": {
    "collapsed": true
   },
   "outputs": [],
   "source": []
  }
 ],
 "metadata": {
  "kernelspec": {
   "display_name": "Python 3",
   "language": "python",
   "name": "python3"
  },
  "language_info": {
   "codemirror_mode": {
    "name": "ipython",
    "version": 3
   },
   "file_extension": ".py",
   "mimetype": "text/x-python",
   "name": "python",
   "nbconvert_exporter": "python",
   "pygments_lexer": "ipython3",
   "version": "3.5.1"
  }
 },
 "nbformat": 4,
 "nbformat_minor": 2
}
