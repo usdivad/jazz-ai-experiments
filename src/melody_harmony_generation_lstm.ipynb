{
 "cells": [
  {
   "cell_type": "markdown",
   "metadata": {},
   "source": [
    "# Generating melody *and* harmony using LSTMs\n",
    "\n",
    "Again, using data from the Weimar Jazz Database."
   ]
  },
  {
   "cell_type": "markdown",
   "metadata": {},
   "source": [
    "## Approach #1: Add underlying harmony directly to note events\n",
    "\n",
    "Functions here will eventually be migrated to the `jazzaiexperiments` module."
   ]
  },
  {
   "cell_type": "markdown",
   "metadata": {},
   "source": [
    "Import everything we need:"
   ]
  },
  {
   "cell_type": "code",
   "execution_count": 1,
   "metadata": {
    "collapsed": false
   },
   "outputs": [
    {
     "name": "stderr",
     "output_type": "stream",
     "text": [
      "Using TensorFlow backend.\n"
     ]
    }
   ],
   "source": [
    "import os\n",
    "\n",
    "import mido\n",
    "import music21\n",
    "import pandas as pd\n",
    "\n",
    "from jazzaiexperiments import *  # For easier testing/debugging"
   ]
  },
  {
   "cell_type": "markdown",
   "metadata": {},
   "source": [
    "### Add chord info (from database) to note events"
   ]
  },
  {
   "cell_type": "code",
   "execution_count": 2,
   "metadata": {
    "collapsed": false
   },
   "outputs": [
    {
     "name": "stdout",
     "output_type": "stream",
     "text": [
      "Created note events from ../data/midi/quantized/ColemanHawkins_BodyAndSoul_FINAL.mid\n",
      "Formatted note data (625 seqs of length 10, 365 unique notes)\n"
     ]
    }
   ],
   "source": [
    "# Testing + building jazzaiexperiments functions\n",
    "# Based on lstm_train_on_midi_input()\n",
    "\n",
    "# Set variables (that will be passed in as arguments)\n",
    "tune_name, time_multiplier, num_notes_to_generate = (\"ColemanHawkins_BodyAndSoul_FINAL\", 0.02, 100)\n",
    "# tune_name, time_multiplier, num_notes_to_generate = (\"JohnColtrane_GiantSteps-1_FINAL\", 2.5, 200)\n",
    "# tune_name, time_multiplier, num_notes_to_generate = (\"CharlieParker_DonnaLee_FINAL\", 2.5, 200)\n",
    "\n",
    "midi_data_dir = \"../data/midi/quantized/\"\n",
    "checkpoints_data_dir = \"../data/models/\"\n",
    "seq_length = 10\n",
    "num_epochs = 1\n",
    "\n",
    "# Create note events\n",
    "input_filepath = midi_construct_input_filepath(tune_name, midi_data_dir)\n",
    "midi_track = midi_load_melody_from_file(input_filepath)\n",
    "note_pairs = midi_extract_note_pairs(midi_track)\n",
    "note_pairs = midi_normalize_velocities(note_pairs, interval=10)\n",
    "note_events = midi_create_note_events(note_pairs)\n",
    "print(\"Created note events from {}\".format(input_filepath))\n",
    "\n",
    "# Format note data to feed into network\n",
    "note_set = midi_create_note_set(note_events)\n",
    "seqs_input, seqs_output = midi_split_subsequences(note_events,\n",
    "                                                  seq_length=seq_length)\n",
    "num_seqs = len(seqs_input)\n",
    "seq_length = len(seqs_input[0])\n",
    "num_unique_notes = len(note_set)\n",
    "x, y = midi_format_for_lstm(seqs_input, seqs_output,\n",
    "                            num_seqs=num_seqs,\n",
    "                            seq_length=seq_length,\n",
    "                            num_unique_notes=num_unique_notes)\n",
    "print(\"Formatted note data ({} seqs of length {}, \"\n",
    "      \"{} unique notes)\".format(num_seqs, seq_length, num_unique_notes))"
   ]
  },
  {
   "cell_type": "code",
   "execution_count": 3,
   "metadata": {
    "collapsed": false
   },
   "outputs": [
    {
     "data": {
      "text/plain": [
       "{'noteoff_time': 16170,\n",
       " 'noteon_pitch': 51,\n",
       " 'noteon_time': 76230,\n",
       " 'noteon_velocity': 100}"
      ]
     },
     "execution_count": 3,
     "metadata": {},
     "output_type": "execute_result"
    }
   ],
   "source": [
    "def midi_note_event_to_dict(note):\n",
    "    note_events_keys = midi_get_note_event_keys()\n",
    "    return dict((note_events_keys[i], note[i]) for i,_ in enumerate(note))\n",
    "\n",
    "midi_note_event_to_dict(note_events[0])"
   ]
  },
  {
   "cell_type": "code",
   "execution_count": 4,
   "metadata": {
    "collapsed": false
   },
   "outputs": [
    {
     "data": {
      "text/plain": [
       "[<meta message track_name name='Melody' time=0>,\n",
       " <meta message set_tempo tempo=631578 time=0>,\n",
       " <meta message key_signature key='Db' time=0>,\n",
       " <meta message time_signature numerator=4 denominator=4 clocks_per_click=24 notated_32nd_notes_per_beat=8 time=0>,\n",
       " <meta message end_of_track time=0>]"
      ]
     },
     "execution_count": 4,
     "metadata": {},
     "output_type": "execute_result"
    }
   ],
   "source": [
    "[msg for msg in midi_track if \"note\" not in msg.type]"
   ]
  },
  {
   "cell_type": "code",
   "execution_count": 5,
   "metadata": {
    "collapsed": false
   },
   "outputs": [
    {
     "data": {
      "text/plain": [
       "<message note_off channel=0 note=51 velocity=100 time=16170>"
      ]
     },
     "execution_count": 5,
     "metadata": {},
     "output_type": "execute_result"
    }
   ],
   "source": [
    "midi_track[5]"
   ]
  },
  {
   "cell_type": "code",
   "execution_count": 6,
   "metadata": {
    "collapsed": false,
    "scrolled": true
   },
   "outputs": [
    {
     "data": {
      "text/plain": [
       "27720"
      ]
     },
     "execution_count": 6,
     "metadata": {},
     "output_type": "execute_result"
    }
   ],
   "source": [
    "mf = mido.MidiFile(input_filepath)\n",
    "mf.ticks_per_beat"
   ]
  },
  {
   "cell_type": "code",
   "execution_count": 7,
   "metadata": {
    "collapsed": false
   },
   "outputs": [
    {
     "data": {
      "text/plain": [
       "[1.7368395,\n",
       " 2.10526,\n",
       " 2.10526,\n",
       " 2.315786,\n",
       " 2.315786,\n",
       " 3.3157845000000004,\n",
       " 3.3157845000000004,\n",
       " 3.473679,\n",
       " 3.473679,\n",
       " 3.6315735]"
      ]
     },
     "execution_count": 7,
     "metadata": {},
     "output_type": "execute_result"
    }
   ],
   "source": [
    "# Calculate times of note onsets (in seconds)\n",
    "def calculate_note_times_seconds(input_filepath):\n",
    "    midi_file = mido.MidiFile(input_filepath)\n",
    "    midi_track = midi_load_melody_from_file(input_filepath)\n",
    "    tempo = midi_track[1].tempo\n",
    "    # ppq = midi_track[3].clocks_per_click\n",
    "    # n32 = midi_track[3].notated_32nd_notes_per_beat\n",
    "    ppq = midi_file.ticks_per_beat\n",
    "    note_times = [mido.tick2second(msg.time, ppq, tempo) for msg in midi_track if \"note\" in msg.type]\n",
    "    note_times_summed = []\n",
    "    for i, t in enumerate(note_times):\n",
    "        note_times_summed.append(sum(note_times[:i]) + t)\n",
    "    return note_times_summed\n",
    "\n",
    "calculate_note_times_seconds(input_filepath)[:10]"
   ]
  },
  {
   "cell_type": "markdown",
   "metadata": {},
   "source": [
    "Actually, let's get the current chord directly from the database. Here I've exported the **beats** and **melody** from the database using a simple:\n",
    "\n",
    "    SELECT * FROM beats WHERE melid=96\n",
    "    \n",
    "and\n",
    "\n",
    "    SELECT * FROM melody WHERE melid=96\n",
    "    \n",
    "with 96 being the melody ID for Coleman Hawkins - Body and Soul"
   ]
  },
  {
   "cell_type": "code",
   "execution_count": 8,
   "metadata": {
    "collapsed": false
   },
   "outputs": [
    {
     "data": {
      "text/plain": [
       "635"
      ]
     },
     "execution_count": 8,
     "metadata": {},
     "output_type": "execute_result"
    }
   ],
   "source": [
    "len(note_events)"
   ]
  },
  {
   "cell_type": "code",
   "execution_count": 9,
   "metadata": {
    "collapsed": false
   },
   "outputs": [
    {
     "data": {
      "text/plain": [
       "('../data/db/ColemanHawkins_BodyAndSoul_FINAL_beats.csv',\n",
       " '../data/db/ColemanHawkins_BodyAndSoul_FINAL_melody.csv')"
      ]
     },
     "execution_count": 9,
     "metadata": {},
     "output_type": "execute_result"
    }
   ],
   "source": [
    "def db_construct_filepath(tune_name,\n",
    "                          data_type,  # \"beats\", \"melody\"\n",
    "                          data_dir=\"../data/db/\"):\n",
    "    filename = \"{}_{}.csv\".format(tune_name, data_type)\n",
    "    filepath = os.path.join(data_dir, filename)\n",
    "    return filepath\n",
    "\n",
    "beats_filepath = db_construct_filepath(tune_name, \"beats\")\n",
    "melody_filepath = db_construct_filepath(tune_name, \"melody\")\n",
    "\n",
    "(beats_filepath, melody_filepath)"
   ]
  },
  {
   "cell_type": "code",
   "execution_count": 10,
   "metadata": {
    "collapsed": false
   },
   "outputs": [
    {
     "data": {
      "text/html": [
       "<div>\n",
       "<table border=\"1\" class=\"dataframe\">\n",
       "  <thead>\n",
       "    <tr style=\"text-align: right;\">\n",
       "      <th></th>\n",
       "      <th>beatid</th>\n",
       "      <th>melid</th>\n",
       "      <th>onset</th>\n",
       "      <th>bar</th>\n",
       "      <th>beat</th>\n",
       "      <th>signature</th>\n",
       "      <th>chord</th>\n",
       "      <th>form</th>\n",
       "      <th>bass_pitch</th>\n",
       "      <th>chorus_id</th>\n",
       "    </tr>\n",
       "  </thead>\n",
       "  <tbody>\n",
       "    <tr>\n",
       "      <th>0</th>\n",
       "      <td>24777</td>\n",
       "      <td>96</td>\n",
       "      <td>8.440748</td>\n",
       "      <td>0</td>\n",
       "      <td>3</td>\n",
       "      <td>NaN</td>\n",
       "      <td>NC</td>\n",
       "      <td>I1</td>\n",
       "      <td>51</td>\n",
       "      <td>0</td>\n",
       "    </tr>\n",
       "    <tr>\n",
       "      <th>1</th>\n",
       "      <td>24778</td>\n",
       "      <td>96</td>\n",
       "      <td>9.035805</td>\n",
       "      <td>0</td>\n",
       "      <td>4</td>\n",
       "      <td>NaN</td>\n",
       "      <td>NaN</td>\n",
       "      <td>NaN</td>\n",
       "      <td>51</td>\n",
       "      <td>0</td>\n",
       "    </tr>\n",
       "    <tr>\n",
       "      <th>2</th>\n",
       "      <td>24779</td>\n",
       "      <td>96</td>\n",
       "      <td>9.807823</td>\n",
       "      <td>1</td>\n",
       "      <td>1</td>\n",
       "      <td>4/4</td>\n",
       "      <td>Eb-</td>\n",
       "      <td>A1</td>\n",
       "      <td>34</td>\n",
       "      <td>1</td>\n",
       "    </tr>\n",
       "    <tr>\n",
       "      <th>3</th>\n",
       "      <td>24780</td>\n",
       "      <td>96</td>\n",
       "      <td>10.452993</td>\n",
       "      <td>1</td>\n",
       "      <td>2</td>\n",
       "      <td>NaN</td>\n",
       "      <td>NaN</td>\n",
       "      <td>NaN</td>\n",
       "      <td>42</td>\n",
       "      <td>1</td>\n",
       "    </tr>\n",
       "    <tr>\n",
       "      <th>4</th>\n",
       "      <td>24781</td>\n",
       "      <td>96</td>\n",
       "      <td>11.128458</td>\n",
       "      <td>1</td>\n",
       "      <td>3</td>\n",
       "      <td>NaN</td>\n",
       "      <td>D+7</td>\n",
       "      <td>NaN</td>\n",
       "      <td>41</td>\n",
       "      <td>1</td>\n",
       "    </tr>\n",
       "  </tbody>\n",
       "</table>\n",
       "</div>"
      ],
      "text/plain": [
       "   beatid  melid      onset  bar  beat signature chord form  bass_pitch  \\\n",
       "0   24777     96   8.440748    0     3       NaN    NC   I1          51   \n",
       "1   24778     96   9.035805    0     4       NaN   NaN  NaN          51   \n",
       "2   24779     96   9.807823    1     1       4/4   Eb-   A1          34   \n",
       "3   24780     96  10.452993    1     2       NaN   NaN  NaN          42   \n",
       "4   24781     96  11.128458    1     3       NaN   D+7  NaN          41   \n",
       "\n",
       "   chorus_id  \n",
       "0          0  \n",
       "1          0  \n",
       "2          1  \n",
       "3          1  \n",
       "4          1  "
      ]
     },
     "execution_count": 10,
     "metadata": {},
     "output_type": "execute_result"
    }
   ],
   "source": [
    "def db_read_file(filepath):\n",
    "    data = pd.read_csv(filepath)\n",
    "    return data\n",
    "\n",
    "db_read_file(beats_filepath).head()"
   ]
  },
  {
   "cell_type": "code",
   "execution_count": 11,
   "metadata": {
    "collapsed": false
   },
   "outputs": [
    {
     "data": {
      "text/html": [
       "<div>\n",
       "<table border=\"1\" class=\"dataframe\">\n",
       "  <thead>\n",
       "    <tr style=\"text-align: right;\">\n",
       "      <th></th>\n",
       "      <th>eventid</th>\n",
       "      <th>melid</th>\n",
       "      <th>onset</th>\n",
       "      <th>pitch</th>\n",
       "      <th>duration</th>\n",
       "      <th>period</th>\n",
       "      <th>division</th>\n",
       "      <th>bar</th>\n",
       "      <th>beat</th>\n",
       "      <th>tatum</th>\n",
       "      <th>...</th>\n",
       "      <th>f0_mod</th>\n",
       "      <th>loud_max</th>\n",
       "      <th>loud_med</th>\n",
       "      <th>loud_sd</th>\n",
       "      <th>loud_relpos</th>\n",
       "      <th>loud_cent</th>\n",
       "      <th>loud_s2b</th>\n",
       "      <th>f0_range</th>\n",
       "      <th>f0_freq_hz</th>\n",
       "      <th>f0_med_dev</th>\n",
       "    </tr>\n",
       "  </thead>\n",
       "  <tbody>\n",
       "    <tr>\n",
       "      <th>0</th>\n",
       "      <td>41757</td>\n",
       "      <td>96</td>\n",
       "      <td>8.939683</td>\n",
       "      <td>51.0</td>\n",
       "      <td>0.278639</td>\n",
       "      <td>4</td>\n",
       "      <td>4</td>\n",
       "      <td>0</td>\n",
       "      <td>3</td>\n",
       "      <td>4</td>\n",
       "      <td>...</td>\n",
       "      <td>NaN</td>\n",
       "      <td>0.552351</td>\n",
       "      <td>62.516859</td>\n",
       "      <td>2.913798</td>\n",
       "      <td>0.240000</td>\n",
       "      <td>0.368501</td>\n",
       "      <td>1.181904</td>\n",
       "      <td>21.915053</td>\n",
       "      <td>7.412672</td>\n",
       "      <td>-11.070815</td>\n",
       "    </tr>\n",
       "    <tr>\n",
       "      <th>1</th>\n",
       "      <td>41758</td>\n",
       "      <td>96</td>\n",
       "      <td>9.218322</td>\n",
       "      <td>51.0</td>\n",
       "      <td>0.290249</td>\n",
       "      <td>4</td>\n",
       "      <td>3</td>\n",
       "      <td>0</td>\n",
       "      <td>4</td>\n",
       "      <td>2</td>\n",
       "      <td>...</td>\n",
       "      <td>NaN</td>\n",
       "      <td>0.370392</td>\n",
       "      <td>59.980021</td>\n",
       "      <td>1.694662</td>\n",
       "      <td>0.481481</td>\n",
       "      <td>0.443516</td>\n",
       "      <td>1.180483</td>\n",
       "      <td>38.993741</td>\n",
       "      <td>4.401113</td>\n",
       "      <td>-17.066446</td>\n",
       "    </tr>\n",
       "    <tr>\n",
       "      <th>2</th>\n",
       "      <td>41759</td>\n",
       "      <td>96</td>\n",
       "      <td>9.508571</td>\n",
       "      <td>51.0</td>\n",
       "      <td>0.371519</td>\n",
       "      <td>4</td>\n",
       "      <td>3</td>\n",
       "      <td>0</td>\n",
       "      <td>4</td>\n",
       "      <td>3</td>\n",
       "      <td>...</td>\n",
       "      <td>NaN</td>\n",
       "      <td>0.432227</td>\n",
       "      <td>58.906740</td>\n",
       "      <td>3.292181</td>\n",
       "      <td>0.441176</td>\n",
       "      <td>0.450475</td>\n",
       "      <td>1.104257</td>\n",
       "      <td>87.635138</td>\n",
       "      <td>4.641182</td>\n",
       "      <td>-32.029418</td>\n",
       "    </tr>\n",
       "    <tr>\n",
       "      <th>3</th>\n",
       "      <td>41760</td>\n",
       "      <td>96</td>\n",
       "      <td>10.582494</td>\n",
       "      <td>51.0</td>\n",
       "      <td>0.191565</td>\n",
       "      <td>4</td>\n",
       "      <td>4</td>\n",
       "      <td>1</td>\n",
       "      <td>2</td>\n",
       "      <td>2</td>\n",
       "      <td>...</td>\n",
       "      <td>NaN</td>\n",
       "      <td>0.720836</td>\n",
       "      <td>64.238410</td>\n",
       "      <td>3.861087</td>\n",
       "      <td>0.058824</td>\n",
       "      <td>0.400048</td>\n",
       "      <td>1.193654</td>\n",
       "      <td>88.286175</td>\n",
       "      <td>5.556956</td>\n",
       "      <td>1.528574</td>\n",
       "    </tr>\n",
       "    <tr>\n",
       "      <th>4</th>\n",
       "      <td>41761</td>\n",
       "      <td>96</td>\n",
       "      <td>10.808889</td>\n",
       "      <td>53.0</td>\n",
       "      <td>0.145102</td>\n",
       "      <td>4</td>\n",
       "      <td>4</td>\n",
       "      <td>1</td>\n",
       "      <td>2</td>\n",
       "      <td>3</td>\n",
       "      <td>...</td>\n",
       "      <td>NaN</td>\n",
       "      <td>0.530749</td>\n",
       "      <td>61.655251</td>\n",
       "      <td>2.110308</td>\n",
       "      <td>0.153846</td>\n",
       "      <td>0.489615</td>\n",
       "      <td>1.168982</td>\n",
       "      <td>101.227998</td>\n",
       "      <td>7.177734</td>\n",
       "      <td>12.858254</td>\n",
       "    </tr>\n",
       "  </tbody>\n",
       "</table>\n",
       "<p>5 rows × 26 columns</p>\n",
       "</div>"
      ],
      "text/plain": [
       "   eventid  melid      onset  pitch  duration  period  division  bar  beat  \\\n",
       "0    41757     96   8.939683   51.0  0.278639       4         4    0     3   \n",
       "1    41758     96   9.218322   51.0  0.290249       4         3    0     4   \n",
       "2    41759     96   9.508571   51.0  0.371519       4         3    0     4   \n",
       "3    41760     96  10.582494   51.0  0.191565       4         4    1     2   \n",
       "4    41761     96  10.808889   53.0  0.145102       4         4    1     2   \n",
       "\n",
       "   tatum     ...      f0_mod  loud_max   loud_med   loud_sd  loud_relpos  \\\n",
       "0      4     ...         NaN  0.552351  62.516859  2.913798     0.240000   \n",
       "1      2     ...         NaN  0.370392  59.980021  1.694662     0.481481   \n",
       "2      3     ...         NaN  0.432227  58.906740  3.292181     0.441176   \n",
       "3      2     ...         NaN  0.720836  64.238410  3.861087     0.058824   \n",
       "4      3     ...         NaN  0.530749  61.655251  2.110308     0.153846   \n",
       "\n",
       "  loud_cent  loud_s2b    f0_range  f0_freq_hz  f0_med_dev  \n",
       "0  0.368501  1.181904   21.915053    7.412672  -11.070815  \n",
       "1  0.443516  1.180483   38.993741    4.401113  -17.066446  \n",
       "2  0.450475  1.104257   87.635138    4.641182  -32.029418  \n",
       "3  0.400048  1.193654   88.286175    5.556956    1.528574  \n",
       "4  0.489615  1.168982  101.227998    7.177734   12.858254  \n",
       "\n",
       "[5 rows x 26 columns]"
      ]
     },
     "execution_count": 11,
     "metadata": {},
     "output_type": "execute_result"
    }
   ],
   "source": [
    "db_read_file(melody_filepath).head()"
   ]
  },
  {
   "cell_type": "code",
   "execution_count": 12,
   "metadata": {
    "collapsed": false
   },
   "outputs": [],
   "source": [
    "# data_beats.dropna?"
   ]
  },
  {
   "cell_type": "code",
   "execution_count": 13,
   "metadata": {
    "collapsed": false
   },
   "outputs": [
    {
     "name": "stderr",
     "output_type": "stream",
     "text": [
      "/Users/usdivad/.pyenv/versions/3.5.1/lib/python3.5/site-packages/ipykernel_launcher.py:7: UserWarning: Boolean Series key will be reindexed to match DataFrame index.\n",
      "  import sys\n"
     ]
    },
    {
     "data": {
      "text/plain": [
       "['NC', 'NC', 'NC', 'Eb-', 'Eb-', 'Eb-', 'D+7', 'D+7', 'D+7', 'D+7']"
      ]
     },
     "execution_count": 13,
     "metadata": {},
     "output_type": "execute_result"
    }
   ],
   "source": [
    "def db_get_harmony_for_melody(beats_filepath, melody_filepath):\n",
    "    data_beats = db_read_file(beats_filepath)\n",
    "    data_melody = db_read_file(melody_filepath)\n",
    "    chords = []\n",
    "    for i,melevt in data_melody.iterrows():\n",
    "        # Get beats that came before current melody event (i.e. note)\n",
    "        beats = data_beats.dropna(subset=[\"chord\"])[data_beats.onset <= melevt.onset]\n",
    "        if len(beats) < 1:\n",
    "            chords.append(\"NC\")\n",
    "            continue\n",
    "\n",
    "        # Get most recent chord\n",
    "        most_recent_beat = beats.iloc[-1:]\n",
    "        #print(\"{}: {}\".format(i, len(beats)))\n",
    "        #print(most_recent_beat.chord)\n",
    "        chord = most_recent_beat.chord\n",
    "        chord = chord[chord.keys()[0]] if len(chord.keys()) > 0 else \"NC\"\n",
    "        chords.append(chord)\n",
    "    return chords\n",
    "        \n",
    "chords = db_get_harmony_for_melody(beats_filepath, melody_filepath)\n",
    "chords[:10]"
   ]
  },
  {
   "cell_type": "code",
   "execution_count": 14,
   "metadata": {
    "collapsed": false
   },
   "outputs": [
    {
     "data": {
      "text/plain": [
       "[(51, 100, 76230, 16170, 'NC'),\n",
       " (51, 90, 0, 9240, 'NC'),\n",
       " (51, 90, 0, 43890, 'NC'),\n",
       " (51, 100, 0, 6930, 'Eb-'),\n",
       " (53, 90, 0, 6930, 'Eb-'),\n",
       " (54, 110, 0, 6930, 'Eb-'),\n",
       " (53, 100, 0, 4620, 'D+7'),\n",
       " (54, 100, 0, 4620, 'D+7'),\n",
       " (53, 90, 0, 39270, 'D+7'),\n",
       " (51, 90, 0, 13860, 'D+7'),\n",
       " (58, 100, 0, 13860, 'Eb-7'),\n",
       " (58, 100, 0, 20790, 'Eb-7'),\n",
       " (58, 90, 0, 48510, 'Eb-7'),\n",
       " (50, 90, 0, 6930, 'D7'),\n",
       " (57, 100, 0, 6930, 'D7'),\n",
       " (50, 80, 0, 6930, 'D7'),\n",
       " (56, 90, 0, 13860, 'Dbj7'),\n",
       " (49, 80, 0, 13860, 'Dbj7'),\n",
       " (58, 110, 27720, 9240, 'Eb-7'),\n",
       " (56, 100, 0, 9240, 'Eb-7'),\n",
       " (53, 100, 0, 18480, 'Eb-7'),\n",
       " (56, 100, 0, 9240, 'Eb-7'),\n",
       " (58, 100, 0, 9240, 'Eb-7'),\n",
       " (60, 110, 0, 9239, 'F-7'),\n",
       " (63, 100, 0, 39270, 'F-7'),\n",
       " (61, 90, 0, 6930, 'F-7'),\n",
       " (60, 100, 0, 32340, 'Eo'),\n",
       " (61, 100, 0, 4620, 'Eo'),\n",
       " (62, 100, 0, 4620, 'Eo'),\n",
       " (63, 100, 0, 13860, 'Eo')]"
      ]
     },
     "execution_count": 14,
     "metadata": {},
     "output_type": "execute_result"
    }
   ],
   "source": [
    "# This will be a variant of midi_create_note_events()\n",
    "def midi_create_note_events_harmony(note_pairs, chords):\n",
    "    note_events = [(note_on.note, note_on.velocity,\n",
    "                    note_on.time, note_off.time,\n",
    "                    chords[i])\n",
    "                   for i, (note_on, note_off) in enumerate(note_pairs)]\n",
    "    return note_events\n",
    "\n",
    "note_events = midi_create_note_events_harmony(note_pairs, chords)\n",
    "note_events[:30]"
   ]
  },
  {
   "cell_type": "code",
   "execution_count": 15,
   "metadata": {
    "collapsed": false
   },
   "outputs": [],
   "source": [
    "# We already did this in db_get_harmony_for_melody() and midi_create_note_events_harmony()\n",
    "# def midi_add_harmony_to_notes(note_events):\n",
    "#     # TODO\n",
    "#     # So we'll need the note events but also the chordal info. From a CSV export from the database itself??\n",
    "#     pass"
   ]
  },
  {
   "cell_type": "markdown",
   "metadata": {},
   "source": [
    "Now let's put it all back into our function:"
   ]
  },
  {
   "cell_type": "code",
   "execution_count": 16,
   "metadata": {
    "collapsed": false,
    "scrolled": true
   },
   "outputs": [],
   "source": [
    "# def lstm_train_with_harmony():\n",
    "\n",
    "def lstm_train_on_midi_input(tune_name,\n",
    "                             midi_data_dir=\"../data/midi/\",\n",
    "                             checkpoints_data_dir=\"../data/models/\",\n",
    "                             input_filepath=None,\n",
    "                             weights_filepath=None,\n",
    "                             db_beats_filepath=None,\n",
    "                             db_melody_filepath=None,\n",
    "                             seq_length=10,\n",
    "                             num_epochs=100,\n",
    "                             mode=\"single_melody\"):\n",
    "    \"\"\"Build and train an LSTM from an input MIDI file.\n",
    "    \n",
    "    To load weights, just pass in a weights_filepath. If no additional training is needed,\n",
    "    just set num_epochs to 0.\n",
    "    \"\"\"\n",
    "    # Load MIDI file\n",
    "    if input_filepath is None:\n",
    "        input_filepath = midi_construct_input_filepath(tune_name,\n",
    "                                                       midi_data_dir)\n",
    "    midi_track = midi_load_melody_from_file(input_filepath)\n",
    "    note_pairs = midi_extract_note_pairs(midi_track)\n",
    "    note_pairs = midi_normalize_velocities(note_pairs, interval=10)\n",
    "    \n",
    "    # Get harmony data\n",
    "    chords = db_get_harmony_for_melody(db_beats_filepath, db_melody_filepath)\n",
    "    \n",
    "    # Create note events\n",
    "    note_events = []\n",
    "    if mode == \"single_melody\":\n",
    "        note_events = midi_create_note_events(note_pairs)\n",
    "    elif mode == \"single_melody_harmony\":\n",
    "        note_events = midi_create_note_events_harmony(note_pairs, chords)\n",
    "    print(\"Created {} note events from {} using mode {}\".format(len(note_events), input_filepath, mode))\n",
    "\n",
    "    # Format note data to feed into network\n",
    "    note_set = midi_create_note_set(note_events)\n",
    "    seqs_input, seqs_output = midi_split_subsequences(note_events,\n",
    "                                                      seq_length=seq_length)\n",
    "    num_seqs = len(seqs_input)\n",
    "    seq_length = len(seqs_input[0])\n",
    "    num_unique_notes = len(note_set)\n",
    "    x, y = midi_format_for_lstm(seqs_input, seqs_output,\n",
    "                                num_seqs=num_seqs,\n",
    "                                seq_length=seq_length,\n",
    "                                num_unique_notes=num_unique_notes)\n",
    "    print(\"Formatted note data ({} seqs of length {}, \"\n",
    "          \"{} unique notes)\".format(num_seqs, seq_length, num_unique_notes))\n",
    "\n",
    "    # Create LSTM\n",
    "    model = lstm_create(x.shape, y.shape, num_units=256, dropout_rate=0.2)\n",
    "    print(\"Created model\")\n",
    "\n",
    "    # Train LSTM, or load from weights\n",
    "    if weights_filepath is not None:\n",
    "        model = lstm_load_weights(model, weights_filepath)\n",
    "        print(\"Loaded weights from {}\".format(weights_filepath))\n",
    "    else:\n",
    "        print(\"No weights loaded (to load weights, specify a `weights_filepath`)\")\n",
    "        \n",
    "    if num_epochs > 0:\n",
    "        callbacks = lstm_setup_callbacks(tune_name, checkpoints_data_dir)\n",
    "        model = lstm_fit_model(model, x, y,\n",
    "                               num_epochs=num_epochs,\n",
    "                               batch_size=32,\n",
    "                               callbacks=callbacks)\n",
    "        print(\"Trained model over {} epochs\".format(num_epochs))\n",
    "    else:\n",
    "        print(\"No training needed (`num_epochs` specified as 0)\")\n",
    "\n",
    "    return (model, note_events, input_filepath)\n",
    "    \n",
    "# # Set variables (that will be passed in as arguments)\n",
    "# tune_name = \"ColemanHawkins_BodyAndSoul_FINAL\"\n",
    "# midi_data_dir = \"../data/midi/quantized/\"\n",
    "# checkpoints_data_dir = \"../data/models/\"\n",
    "# input_filepath = None\n",
    "# beats_filepath = \"../data/db/ColemanHawkins_BodyAndSoul_FINAL_beats.csv\"\n",
    "# melody_filepath = \"../data/db/ColemanHawkins_BodyAndSoul_FINAL_melody.csv\"\n",
    "# weights_filepath = None\n",
    "# seq_length = 10\n",
    "# num_epochs = 1\n",
    "# mode = \"single_melody_harmony\"\n",
    "# #    \n",
    "\n",
    "# TESTING\n",
    "# trained = lstm_train_on_midi_input(tune_name=\"ColemanHawkins_BodyAndSoul_FINAL\",\n",
    "#                                    midi_data_dir=\"../data/midi/quantized/\",\n",
    "#                                    db_beats_filepath=\"../data/db/ColemanHawkins_BodyAndSoul_FINAL_beats.csv\",\n",
    "#                                    db_melody_filepath=\"../data/db/ColemanHawkins_BodyAndSoul_FINAL_melody.csv\",\n",
    "#                                    seq_length=10,\n",
    "#                                    num_epochs=1,\n",
    "#                                    mode=\"single_melody_harmony\")\n",
    "# model, note_events, input_filepath = trained"
   ]
  },
  {
   "cell_type": "code",
   "execution_count": 17,
   "metadata": {
    "collapsed": false
   },
   "outputs": [],
   "source": [
    "# model.summary()"
   ]
  },
  {
   "cell_type": "code",
   "execution_count": 18,
   "metadata": {
    "collapsed": false
   },
   "outputs": [],
   "source": [
    "# note_events[:10]"
   ]
  },
  {
   "cell_type": "markdown",
   "metadata": {},
   "source": [
    "### Convert chord names to MIDI pitch information\n",
    "\n",
    "We need some way to convert e.g. \"Eb-\" to useful note data. `music21` looks handy for that (on second thought, perhaps I should rewrite MIDI functions to use `music21` as well):"
   ]
  },
  {
   "cell_type": "code",
   "execution_count": 19,
   "metadata": {
    "collapsed": false
   },
   "outputs": [
    {
     "data": {
      "text/plain": [
       "[51, 54, 58]"
      ]
     },
     "execution_count": 19,
     "metadata": {},
     "output_type": "execute_result"
    }
   ],
   "source": [
    "[pitch.midi for pitch in music21.harmony.ChordSymbol(\"E-m\").pitches]"
   ]
  },
  {
   "cell_type": "markdown",
   "metadata": {},
   "source": [
    "Alright, so we have a bit of conversion to do to get it in a nice format for `music21.harmony.ChordSymbol` (e.g. from \"Eb-\" to \"E-m\"). This takes some string wrangling:"
   ]
  },
  {
   "cell_type": "code",
   "execution_count": 20,
   "metadata": {
    "collapsed": false
   },
   "outputs": [
    {
     "data": {
      "text/plain": [
       "[<music21.harmony.ChordSymbol B+7>,\n",
       " <music21.harmony.ChordSymbol B-sus4>,\n",
       " <music21.harmony.ChordSymbol B7>,\n",
       " <music21.harmony.ChordSymbol D7>,\n",
       " <music21.harmony.ChordSymbol B-7b9>,\n",
       " <music21.harmony.ChordSymbol B-m7>,\n",
       " <music21.harmony.ChordSymbol F-m7>,\n",
       " <music21.harmony.ChordSymbol Fm7b5>,\n",
       " <music21.harmony.ChordSymbol E-o>,\n",
       " <music21.harmony.ChordSymbol Dmaj7>]"
      ]
     },
     "execution_count": 20,
     "metadata": {},
     "output_type": "execute_result"
    }
   ],
   "source": [
    "def db_chord_to_music21_chord(chord):\n",
    "    new_chord = chord\n",
    "    \n",
    "    # Use \"m\" instead of \"-\" to indicate minor chords\n",
    "    new_chord = new_chord.replace(\"-\", \"m\")\n",
    "    \n",
    "    # Use \"maj\" instead of \"j\" to indicate maj7 chords\n",
    "    new_chord = new_chord.replace(\"j\", \"maj\")\n",
    "    \n",
    "    # Use \"sus4add7\" instead of \"sus7\" for suspended 7th chords\n",
    "    # TODO: Get it to add a dominant 7th (\"sus4add7\" adds a major 7th)\n",
    "    #       (probably could use music21.harmony.addNewChordSymbol())\n",
    "    new_chord = new_chord.replace(\"sus7\", \"sus4\")\n",
    "    \n",
    "    # According to music21 docs: \"if a root or bass is flat, the ‘-‘ must be used, and NOT ‘b’.\n",
    "    # However, alterations and chord abbreviations are specified normally with the ‘b’ and ‘#’ signs.\"\n",
    "    if len(new_chord) > 1 and new_chord[1] == \"b\":\n",
    "        new_chord_arr = list(new_chord)\n",
    "        new_chord_arr[1] = \"-\"\n",
    "        new_chord = \"\".join(new_chord_arr)\n",
    "    \n",
    "    # Convert sharps and flats to go before interval; e.g. \"B-79b\" to \"B-7b9\"\n",
    "    if len(new_chord) > 0 and (new_chord[-1] == \"b\" or new_chord[-1] == \"#\"):\n",
    "        new_chord_arr = list(new_chord)\n",
    "        if len(new_chord_arr) > 2:\n",
    "            accidental = new_chord_arr[-1]\n",
    "            new_chord_arr[-1] = new_chord_arr[-2]\n",
    "            new_chord_arr[-2] = accidental\n",
    "        new_chord = \"\".join(new_chord_arr)\n",
    "        \n",
    "    return new_chord\n",
    "\n",
    "chord_set = set(chords)\n",
    "chord_set_converted = set([db_chord_to_music21_chord(chord) for chord in chord_set])\n",
    "chord_set_converted\n",
    "\n",
    "# Debugging\n",
    "# for chord in chord_set_converted:\n",
    "#     print(chord)\n",
    "#     if chord != \"NC\":\n",
    "#         print(music21.harmony.ChordSymbol(chord))\n",
    "        \n",
    "[music21.harmony.ChordSymbol(chord) for chord in chord_set_converted if chord != \"NC\"][:10]"
   ]
  },
  {
   "cell_type": "markdown",
   "metadata": {},
   "source": [
    "And then to MIDI pitches:"
   ]
  },
  {
   "cell_type": "code",
   "execution_count": 21,
   "metadata": {
    "collapsed": false
   },
   "outputs": [
    {
     "data": {
      "text/plain": [
       "[[47, 51, 55, 57],\n",
       " [46, 50, 53, 56, 59],\n",
       " [50, 53, 57, 60],\n",
       " [47, 51, 54, 57],\n",
       " [50, 54, 57, 60],\n",
       " [46, 49, 53, 56],\n",
       " [44, 48, 52, 54],\n",
       " [41, 44, 47, 51],\n",
       " [],\n",
       " [49, 53, 56]]"
      ]
     },
     "execution_count": 21,
     "metadata": {},
     "output_type": "execute_result"
    }
   ],
   "source": [
    "def db_chord_to_midi_pitches(chord):  # TODO: Add optional octave argument\n",
    "    if chord == \"NC\":\n",
    "        return []\n",
    "    chord_name = db_chord_to_music21_chord(chord)\n",
    "    chord_symbol = music21.harmony.ChordSymbol(chord_name)\n",
    "    return [pitch.midi for pitch in chord_symbol.pitches]\n",
    "\n",
    "[db_chord_to_midi_pitches(chord) for chord in chord_set][:10]"
   ]
  },
  {
   "cell_type": "markdown",
   "metadata": {},
   "source": [
    "OK I think we're ready to start generating some notes!"
   ]
  },
  {
   "cell_type": "markdown",
   "metadata": {},
   "source": [
    "### Generate notes"
   ]
  },
  {
   "cell_type": "markdown",
   "metadata": {},
   "source": [
    "We'll have to rewrite the function that retrieves keys for note events, so that it will handle chord info:"
   ]
  },
  {
   "cell_type": "code",
   "execution_count": 22,
   "metadata": {
    "collapsed": false
   },
   "outputs": [
    {
     "data": {
      "text/plain": [
       "('noteon_pitch', 'noteon_velocity', 'noteon_time', 'noteoff_time', 'chord')"
      ]
     },
     "execution_count": 22,
     "metadata": {},
     "output_type": "execute_result"
    }
   ],
   "source": [
    "def midi_get_note_event_keys(mode=\"single_melody\"):\n",
    "    \"\"\"Get keys for note events.\"\"\"\n",
    "    if mode == \"single_melody\":\n",
    "        # Don't use note off velocity to shrink possibilities,\n",
    "        # and don't use note off pitch because it's the same as note on pitch\n",
    "        return (\"noteon_pitch\", \"noteon_velocity\",\n",
    "                \"noteon_time\", \"noteoff_time\")\n",
    "    elif mode == \"single_melody_harmony\":\n",
    "        return (\"noteon_pitch\", \"noteon_velocity\",\n",
    "                \"noteon_time\", \"noteoff_time\",\n",
    "                \"chord\")\n",
    "    return ()\n",
    "\n",
    "midi_get_note_event_keys(mode=\"single_melody_harmony\")"
   ]
  },
  {
   "cell_type": "markdown",
   "metadata": {},
   "source": [
    "All we have to do to `lstm_generate_midi_output` is pass the mode into `midi_write_file`:"
   ]
  },
  {
   "cell_type": "code",
   "execution_count": 23,
   "metadata": {
    "collapsed": false
   },
   "outputs": [],
   "source": [
    "def lstm_generate_midi_output(model, note_events,\n",
    "                              mode=\"single_melody\",\n",
    "                              num_notes_to_generate=100,\n",
    "                              batch_size=32,\n",
    "                              time_multiplier=time_multiplier,\n",
    "                              random_seed=False,\n",
    "                              add_seed_to_output=False,\n",
    "                              output_filepath=None,\n",
    "                              midi_source_filepath=None,\n",
    "                              tune_name=\"output\",\n",
    "                              data_dir=\"../data/output/\"):\n",
    "    \"\"\"Generate note output, given a trained model.\"\"\"\n",
    "    # Construct input sequence\n",
    "    seq_in = lstm_construct_input_seq(note_events, model.input_shape[1],\n",
    "                                      random_seed=random_seed)\n",
    "    print(\"Constructed input sequence: {}\".format(seq_in))\n",
    "\n",
    "    # Generate the notes!\n",
    "    num_notes = num_notes_to_generate\n",
    "    notes_out = lstm_generate_notes(model, note_events, seq_in,\n",
    "                                    num_notes_to_generate=num_notes,\n",
    "                                    batch_size=batch_size,\n",
    "                                    add_seed_to_output=add_seed_to_output)\n",
    "    print(\"Generated {} notes\".format(num_notes))\n",
    "\n",
    "    # Write output to MIDI file\n",
    "    if output_filepath is None:\n",
    "        output_filepath = midi_construct_output_filepath(tune_name, data_dir)\n",
    "    midi_write_file(notes_out, output_filepath,\n",
    "                    mode=mode,\n",
    "                    time_multiplier=time_multiplier,\n",
    "                    midi_source_filepath=midi_source_filepath)\n",
    "    print(\"Wrote to MIDI file at {}\".format(output_filepath))\n",
    "    return (notes_out, output_filepath)"
   ]
  },
  {
   "cell_type": "markdown",
   "metadata": {},
   "source": [
    "Similarly, get `midi_write_file` to pass the mode into `midi_get_note_event_keys`, and also write the chord information to file:"
   ]
  },
  {
   "cell_type": "code",
   "execution_count": 24,
   "metadata": {
    "collapsed": true
   },
   "outputs": [],
   "source": [
    "def midi_write_file(note_events, output_filepath,\n",
    "                    mode=\"single_melody\",\n",
    "                    time_multiplier=1,\n",
    "                    midi_source_filepath=None):\n",
    "    \"\"\"Write note events to MIDI file.\n",
    "\n",
    "    Convert the sequence of note tuples into a sequence of MIDI notes,\n",
    "    and then write to MIDI file.\n",
    "    \"\"\"\n",
    "    # Create MIDI file and track\n",
    "    midi_file_out = mido.MidiFile()\n",
    "    midi_track_out = mido.MidiTrack()\n",
    "    midi_file_out.tracks.append(midi_track_out)\n",
    "\n",
    "    # Append \"headers\" (track name, tempo, key, time signature)\n",
    "    if midi_source_filepath is not None:\n",
    "        midi_track = midi_load_melody_from_file(midi_source_filepath)\n",
    "        for message in midi_track[:4]:\n",
    "            midi_track_out.append(message)\n",
    "    else:\n",
    "        pass\n",
    "\n",
    "    # Add notes\n",
    "    prev_time = 0\n",
    "    note_events_keys = midi_get_note_event_keys(mode=mode)\n",
    "\n",
    "    # Note times get all bunched together, so we stretch them out\n",
    "    # a little bit manually here...\n",
    "    # TODO: Revisit this to make it more robust\n",
    "    # time_multiplier = 2  # Art Pepper - Anthropology\n",
    "    # time_multiplier = 0.02  # Coleman Hawkins - Body and Soul\n",
    "    # time_multiplier = 2.5  # John Coltrane - Giant Steps\n",
    "    time_multiplier = time_multiplier\n",
    "    \n",
    "    # Harmony (chord) settings\n",
    "    prev_chord = \"NC\"\n",
    "    chord_velocity = 64\n",
    "\n",
    "    for note in note_events:\n",
    "        # Construct messages for note on/off pairs\n",
    "        note = dict((note_events_keys[i], note[i]) for i, _ in enumerate(note))\n",
    "        noteon_time = int(note[\"noteon_time\"] * time_multiplier)\n",
    "        noteoff_time = int(note[\"noteoff_time\"] * time_multiplier)\n",
    "        curr_time_noteon = prev_time + noteon_time\n",
    "        curr_time_noteoff = prev_time + noteoff_time\n",
    "        # prev_time = curr_time_noteoff\n",
    "        message_noteon = mido.Message(\"note_on\",\n",
    "                                      channel=0,\n",
    "                                      note=note[\"noteon_pitch\"],\n",
    "                                      velocity=note[\"noteon_velocity\"],\n",
    "                                      time=curr_time_noteon)\n",
    "        message_noteoff = mido.Message(\"note_off\",\n",
    "                                       channel=0,\n",
    "                                       note=note[\"noteon_pitch\"],\n",
    "                                       velocity=note[\"noteon_velocity\"],\n",
    "                                       time=curr_time_noteoff)\n",
    "        \n",
    "        # Append note on event\n",
    "        midi_track_out.append(message_noteon)\n",
    "        \n",
    "        # Write harmony (chords) as well\n",
    "        if mode == \"single_melody_harmony\":\n",
    "            curr_chord = note[\"chord\"]\n",
    "            if curr_chord != prev_chord:\n",
    "                curr_pitches = db_chord_to_midi_pitches(curr_chord)\n",
    "                prev_pitches = db_chord_to_midi_pitches(prev_chord)\n",
    "                \n",
    "                # Add note ons for current chord\n",
    "                for pitch in curr_pitches:\n",
    "                    message = mido.Message(\"note_on\",\n",
    "                                           channel=1,\n",
    "                                           note=pitch,\n",
    "                                           velocity=chord_velocity,\n",
    "                                           time=0)  # time=curr_noteon\n",
    "                    midi_track_out.append(message)\n",
    "\n",
    "                # Add note offs for previous chord\n",
    "                for pitch in prev_pitches:\n",
    "                    message = mido.Message(\"note_off\",\n",
    "                                           channel=1,\n",
    "                                           note=pitch,\n",
    "                                           velocity=chord_velocity,\n",
    "                                           time=0)  # time=curr_noteon\n",
    "                    midi_track_out.append(message)\n",
    "                \n",
    "            prev_chord = curr_chord\n",
    "            \n",
    "        # Append the note off event (we do this after appending harmony\n",
    "        # so that the harmony lines up with the current note on)\n",
    "        midi_track_out.append(message_noteoff)\n",
    "\n",
    "    # Save file to disk\n",
    "    midi_file_out.save(output_filepath)\n",
    "\n",
    "    # for message in midi_track_out[4:20]:\n",
    "    #     print(message)\n",
    "    return output_filepath"
   ]
  },
  {
   "cell_type": "markdown",
   "metadata": {},
   "source": [
    "### Putting it all together"
   ]
  },
  {
   "cell_type": "markdown",
   "metadata": {},
   "source": [
    "Train the model:"
   ]
  },
  {
   "cell_type": "code",
   "execution_count": 25,
   "metadata": {
    "collapsed": false,
    "scrolled": true
   },
   "outputs": [
    {
     "name": "stderr",
     "output_type": "stream",
     "text": [
      "/Users/usdivad/.pyenv/versions/3.5.1/lib/python3.5/site-packages/ipykernel_launcher.py:7: UserWarning: Boolean Series key will be reindexed to match DataFrame index.\n",
      "  import sys\n"
     ]
    },
    {
     "name": "stdout",
     "output_type": "stream",
     "text": [
      "Created 635 note events from ../data/midi/quantized/ColemanHawkins_BodyAndSoul_FINAL.mid using mode single_melody_harmony\n",
      "Formatted note data (625 seqs of length 10, 581 unique notes)\n",
      "Created model\n",
      "No weights loaded (to load weights, specify a `weights_filepath`)\n",
      "Epoch 1/1\n",
      "608/625 [============================>.] - ETA: 0s - loss: 6.3761 \b\b\b\b\b\b\b\b\b\b\b\b\b\b\b\b\b\b\b\b\b\b\b\b\b\b\b\b\b\b\b\b\b\b\b\b\b\b\b\b\b\b\b\b\b\b\b\b\b\b\b\b\b\b\b\b\b\b\b\b\b\b\b\b\b\b\b\b\b\b\b\b\b\b\b\b\b\b\b\b\b\b\b\b\b\b\b\b\b\b\b\b\b\b\b\b\b\b\b\b\b\b\b\b\b\b\b\b\b\b\b\b\b\b\b\b\b\b\b\b\b\b\b\b\b\b\b\b\b\b\b\b\b\b\b\b\b\b\b\b\b\b\b\b\b\b\b\b\b\b\b\b\b\b\b\b\b\b\b\b\b\b\b\b\b\b\b\b\b\b\b\b\b\b\b\b\b\b\b\b\b\b\b\b\b\b\b\b\b\b\b\b\b\b\b\b\b\b\b\b\b\b\b\b\b\b\b\b\b\b\b\b\b\b\b\b\b\b\b\b\b\b\b\b\b\b\b\b\b\b\b\b\b\b\b\b\b\b\b\b\b\b\b\b\b\b\b\b\b\b\b\b\b\b\b\b\b\b\b\b\b\b\b\b\b\b\b\b\b\b\b\b\b\b\b\b\b\b\b\b\b\b\b\b\b\b\b\b\b\b\b\b\b\b\b\b\b\b\b\b\b\b\b\b\b\b\b\b\b\b\b\b\b\b\b\b\b\b\b\b\b\b\b\b\b\b\b\b\b\b\b\b\b\b\b\b\b\b\b\b\b\b\b\b\b\b\b\b\b\b\b\b\b\b\b\b\b\b\b\b\b\b\b\b\b\b\b\b\b\b\b\b\b\b\b\b\b\b\b\b\b\b\b\b\b\b\b\b\b\b\b\b\b\b\b\b\b\b\b\b\b\b\b\b\b\b\b\b\b\b\b\b\b\b\b\b\b\b\b\b\b\b\b\b\b\b\b\b\b\b\b\b\b\b\b\b\b\b\b\b\b\b\b\b\b\b\b\b\b\b\b\b\b\b\b\b\b\b\b\b\b\b\b\b\b\b\b\b\b\b\b\b\b\b\b\b\b\b\b\b\b\b\b\b\b\b\b\b\b\b\b\b\b\b\b\b\b\b\b\b\b\b\b\b\b\b\b\b\b\b\b\b\b\b\b\b\b\b\b\b\b\b\b\b\b\b\b\b\b\b\b\b\b\b\b\b\b\b\b\b\b\b\b\b\b\b\b\b\b\b\b\b\b\b\b\b\b\b\b\b\b\b\b\b\b\b\b\b\b\b\b\b\b\b\b\b\b\b\b\b\b\b\b\b\b\b\b\b\b\b\b\b\b\b\b\b\b\b\b\b\b\b\b\b\b\b\b\b\b\b\b\b\b\b\b\b\b\b\b\b\b\b\b\b\b\b\b\b\b\b\b\b\b\b\b\b\b\b\b\b\b\b\b\b\b\b\b\b\b\b\b\b\b\b\b\b\b\b\b\b\b\b\b\b\b\b\b\b\b\b\b\b\b\b\b\b\b\b\b\b\b\b\b\b\b\b\b\b\b\b\b\b\b\b\b\b\b\b\b\b\b\b\b\b\b\b\b\b\b\b\b\b\b\b\b\b\b\b\b\b\b\b\b\b\b\b\b\b\b\b\b\b\b\b\b\b\b\b\b\b\b\b\b\b\b\b\b\b\b\b\b\b\b\b\b\b\b\b\b\b\b\b\b\b\b\b\b\b\b\b\b\b\b\b\b\b\b\b\b\b\b\b\b\b\b\b\b\b\b\b\b\b\b\b\b\b\b\b\b\b\b\b\b\b\b\b\b\b\b\b\b\b\b\b\b\b\b\b\b\b\b\b\b\b\b\b\b\b\b\b\b\b\b\b\b\b\b\b\b\b\b\b\b\b\b\b\b\b\b\b\b\b\b\b\b\b\b\b\b\b\b\b\b\b\b\b\b\b\b\b\b\b\b\b\b\b\b\b\b\b\b\b\b\b\b\b\b\b\b\b\b\b\b\b\b\b\b\b\b\b\b\b\b\b\b\b\b\b\b\b\b\b\b\b\b\b\b\b\b\b\b\b\b\b\b\b\b\b\b\b\b\b\b\b\b\b\b\b\b\b\b\b\b\b\b\b\b\b\b\b\b\b\b\b\b\b\b\b\b\b\b\b\b\b\b\b\b\b\b\b\b\b\b\b\b\b\b\b\b\b\b\b\b\b\b\b\b\b\b\b\b\b\b\b\b\b\b\b\b\b\b\b\b\b\b\b\b\b\b\b\b\b\b\b\b\b\b\b\b\b\b\b\b\b\b\b\b\b\b\b\b\b\b\b\b\b\b\b\b\b\b\b\b\b\b\b\b\b\b\b\b\b\b\b\b\b\b\b\b\b\b\b\b\b\b\b\b\b\b\b\b\b\b\b\b\b\b\b\b\b\b\b\b\b\b\b\b\b\b\b\b\b\b\b\b\b\b\b\b\b\b\b\b\b\b\b\b\b\b\b\b\b\b\b\b\b\b\b\b\b\b\b\b\b\b\b\b\b\b\b\b\b\b\b\b\b\b\b\b\b\b\b\b\b\b\b\b\b\b\b\b\b\b\b\b\b\b\b\b\b\b\b\b\b\b\b\b\b\b\b\b\b\b\bEpoch 00000: loss improved from inf to 6.37606, saving model to ../data/models/weights_ColemanHawkins_BodyAndSoul_FINAL_20170703211705804737_00_6.3761.hdf5\n",
      "625/625 [==============================] - 5s - loss: 6.3761     \n",
      "Trained model over 1 epochs\n"
     ]
    }
   ],
   "source": [
    "trained = lstm_train_on_midi_input(tune_name=tune_name,\n",
    "                                   mode=\"single_melody_harmony\",\n",
    "                                   midi_data_dir=\"../data/midi/quantized/\",\n",
    "                                   db_beats_filepath=beats_filepath,\n",
    "                                   db_melody_filepath=melody_filepath,\n",
    "                                   seq_length=10,\n",
    "                                   num_epochs=1)\n",
    "model, note_events, input_filepath = trained"
   ]
  },
  {
   "cell_type": "markdown",
   "metadata": {},
   "source": [
    "Load weights ay:"
   ]
  },
  {
   "cell_type": "code",
   "execution_count": 26,
   "metadata": {
    "collapsed": false
   },
   "outputs": [],
   "source": [
    "# Coleman Hawkins - Body and Soul\n",
    "\n",
    "# 1 epoch\n",
    "# lstm_load_weights(model, \"../data/models/weights_ColemanHawkins_BodyAndSoul_FINAL_20170703162618875647_00_6.3755.hdf5\")\n",
    "\n",
    "# 10 epochs\n",
    "# lstm_load_weights(model, \"../data/models/weights_ColemanHawkins_BodyAndSoul_FINAL_20170703162618875647_09_5.4847.hdf5\")\n",
    "\n",
    "# 50 epochs\n",
    "# lstm_load_weights(model, \"../data/models/weights_ColemanHawkins_BodyAndSoul_FINAL_20170703162618875647_49_1.5432.hdf5\")\n",
    "\n",
    "# 75 epochs\n",
    "# lstm_load_weights(model,\"../data/models/weights_ColemanHawkins_BodyAndSoul_FINAL_20170703162618875647_74_0.8663.hdf5\")\n",
    "\n",
    "# 100 epochs\n",
    "# lstm_load_weights(model,\"../data/models/weights_ColemanHawkins_BodyAndSoul_FINAL_20170703162618875647_99_0.4374.hdf5\")\n",
    "\n",
    "# 150 epochs\n",
    "# lstm_load_weights(model,\"../data/models/weights_ColemanHawkins_BodyAndSoul_FINAL_20170703165925088780_146_0.2167.hdf5\")\n",
    "\n",
    "# 200 epochs\n",
    "# lstm_load_weights(model,\"../data/models/weights_ColemanHawkins_BodyAndSoul_FINAL_20170703165925088780_170_0.1458.hdf5\")"
   ]
  },
  {
   "cell_type": "markdown",
   "metadata": {},
   "source": [
    "Use the model to generate some notes:"
   ]
  },
  {
   "cell_type": "code",
   "execution_count": 27,
   "metadata": {
    "collapsed": false
   },
   "outputs": [
    {
     "name": "stdout",
     "output_type": "stream",
     "text": [
      "Constructed input sequence: [80, 70, 73, 77, 120, 184, 133, 155, 131, 72]\n",
      "Generated 100 notes\n",
      "Wrote to MIDI file at ../data/output/out_ColemanHawkins_BodyAndSoul_FINAL_20170703211716720842.mid\n"
     ]
    },
    {
     "data": {
      "text/plain": [
       "[(51, 100, 76230, 16170, 'NC'),\n",
       " (51, 90, 0, 9240, 'NC'),\n",
       " (51, 90, 0, 43890, 'NC'),\n",
       " (51, 100, 0, 6930, 'Eb-'),\n",
       " (53, 90, 0, 6930, 'Eb-'),\n",
       " (54, 110, 0, 6930, 'Eb-'),\n",
       " (53, 100, 0, 4620, 'D+7'),\n",
       " (54, 100, 0, 4620, 'D+7'),\n",
       " (53, 90, 0, 39270, 'D+7'),\n",
       " (51, 90, 0, 13860, 'D+7'),\n",
       " (50, 90, 0, 3960, 'Dj7'),\n",
       " (50, 90, 0, 3960, 'Dj7'),\n",
       " (50, 90, 0, 3960, 'Dj7'),\n",
       " (50, 90, 0, 3960, 'Dj7'),\n",
       " (50, 90, 0, 3960, 'Dj7'),\n",
       " (50, 90, 0, 3960, 'Dj7'),\n",
       " (50, 90, 0, 3960, 'Dj7'),\n",
       " (53, 80, 0, 129162, 'Bb7'),\n",
       " (53, 80, 0, 129162, 'Bb7'),\n",
       " (53, 80, 0, 129162, 'Bb7')]"
      ]
     },
     "execution_count": 27,
     "metadata": {},
     "output_type": "execute_result"
    }
   ],
   "source": [
    "notes_out, output_filepath = lstm_generate_midi_output(model, note_events,\n",
    "                                                       mode=\"single_melody_harmony\",\n",
    "                                                       num_notes_to_generate=num_notes_to_generate,\n",
    "                                                       random_seed=False,\n",
    "                                                       add_seed_to_output=True,\n",
    "                                                       tune_name=tune_name,\n",
    "                                                       time_multiplier=time_multiplier,\n",
    "                                                       midi_source_filepath=input_filepath,\n",
    "                                                       data_dir=\"../data/output\")\n",
    "notes_out[:20]"
   ]
  },
  {
   "cell_type": "code",
   "execution_count": 28,
   "metadata": {
    "collapsed": false
   },
   "outputs": [],
   "source": [
    "# Trying to do MIDI -> mp3 conversion directly in notebook\n",
    "# %%bash -s \"$output_filepath\"\n",
    "# source ~/.bash_profile\n",
    "# miditomp3 $1"
   ]
  },
  {
   "cell_type": "code",
   "execution_count": 29,
   "metadata": {
    "collapsed": false
   },
   "outputs": [],
   "source": [
    "# Play the MIDI file here\n",
    "# music21.converter.parse(\"../data/output/out_ColemanHawkins_BodyAndSoul_FINAL_20170703163206182499.mid\").show(\"midi\")"
   ]
  },
  {
   "cell_type": "markdown",
   "metadata": {},
   "source": [
    "Load multiple weights and generate output for each of them (so we can compare):"
   ]
  },
  {
   "cell_type": "code",
   "execution_count": 30,
   "metadata": {
    "collapsed": false
   },
   "outputs": [
    {
     "name": "stdout",
     "output_type": "stream",
     "text": [
      "Loaded weights from ../data/models/weights_ColemanHawkins_BodyAndSoul_FINAL_20170703162618875647_00_6.3755.hdf5\n",
      "Constructed input sequence: [80, 70, 73, 77, 120, 184, 133, 155, 131, 72]\n",
      "Generated 100 notes\n",
      "Wrote to MIDI file at ../data/output/out_ColemanHawkins_BodyAndSoul_FINAL_20170703211718867813.mid\n",
      "Loaded weights from ../data/models/weights_ColemanHawkins_BodyAndSoul_FINAL_20170703162618875647_09_5.4847.hdf5\n",
      "Constructed input sequence: [80, 70, 73, 77, 120, 184, 133, 155, 131, 72]\n",
      "Generated 100 notes\n",
      "Wrote to MIDI file at ../data/output/out_ColemanHawkins_BodyAndSoul_FINAL_20170703211720654056.mid\n",
      "Loaded weights from ../data/models/weights_ColemanHawkins_BodyAndSoul_FINAL_20170703162618875647_49_1.5432.hdf5\n",
      "Constructed input sequence: [80, 70, 73, 77, 120, 184, 133, 155, 131, 72]\n",
      "Generated 100 notes\n",
      "Wrote to MIDI file at ../data/output/out_ColemanHawkins_BodyAndSoul_FINAL_20170703211723049792.mid\n",
      "Loaded weights from ../data/models/weights_ColemanHawkins_BodyAndSoul_FINAL_20170703162618875647_99_0.4374.hdf5\n",
      "Constructed input sequence: [80, 70, 73, 77, 120, 184, 133, 155, 131, 72]\n",
      "Generated 100 notes\n",
      "Wrote to MIDI file at ../data/output/out_ColemanHawkins_BodyAndSoul_FINAL_20170703211726155641.mid\n",
      "Loaded weights from ../data/models/weights_ColemanHawkins_BodyAndSoul_FINAL_20170703165925088780_146_0.2167.hdf5\n",
      "Constructed input sequence: [80, 70, 73, 77, 120, 184, 133, 155, 131, 72]\n",
      "Generated 100 notes\n",
      "Wrote to MIDI file at ../data/output/out_ColemanHawkins_BodyAndSoul_FINAL_20170703211728649770.mid\n",
      "Done writing\n"
     ]
    }
   ],
   "source": [
    "weights_filepaths = []\n",
    "\n",
    "if tune_name == \"ColemanHawkins_BodyAndSoul_FINAL\":  # Coleman Hawkins - Body and Soul\n",
    "    weights_filepaths = [\"weights_ColemanHawkins_BodyAndSoul_FINAL_20170703162618875647_00_6.3755.hdf5\",\n",
    "                         \"weights_ColemanHawkins_BodyAndSoul_FINAL_20170703162618875647_09_5.4847.hdf5\",\n",
    "                         \"weights_ColemanHawkins_BodyAndSoul_FINAL_20170703162618875647_49_1.5432.hdf5\",\n",
    "                         \"weights_ColemanHawkins_BodyAndSoul_FINAL_20170703162618875647_99_0.4374.hdf5\",\n",
    "                         \"weights_ColemanHawkins_BodyAndSoul_FINAL_20170703165925088780_146_0.2167.hdf5\"]\n",
    "\n",
    "elif tune_name == \"JohnColtrane_GiantSteps_FINAL\":  # John Coltrane - Giant Steps\n",
    "    weights_filepaths = [\"weights_JohnColtrane_GiantSteps-1_FINAL_20170703180209718872_00_6.3668.hdf5\",\n",
    "                         \"weights_JohnColtrane_GiantSteps-1_FINAL_20170703181128071625_09_5.7838.hdf5\",\n",
    "                         \"weights_JohnColtrane_GiantSteps-1_FINAL_20170703181128071625_49_2.0546.hdf5\",\n",
    "                         \"weights_JohnColtrane_GiantSteps-1_FINAL_20170703181128071625_99_0.7281.hdf5\"]\n",
    "\n",
    "elif tune_name == \"CharlieParker_DonnaLee_FINAL\":  # Charlie Parker - Donna Lee\n",
    "    weights_filepaths = [\"weights_CharlieParker_DonnaLee_FINAL_20170703185151689429_00_5.7642.hdf5\",\n",
    "                         \"weights_CharlieParker_DonnaLee_FINAL_20170703185151689429_09_5.1143.hdf5\",\n",
    "                         \"weights_CharlieParker_DonnaLee_FINAL_20170703185151689429_49_1.6850.hdf5\",\n",
    "                         \"weights_CharlieParker_DonnaLee_FINAL_20170703185151689429_91_0.8709.hdf5\"]\n",
    "else:\n",
    "    print(\"No weights found for tune {}\".format(tune_name))\n",
    "\n",
    "weights_filepaths = [os.path.join(\"../data/models/\", path) for path in weights_filepaths]\n",
    "\n",
    "for weights_filepath in weights_filepaths:\n",
    "    lstm_load_weights(model, weights_filepath)\n",
    "    print(\"Loaded weights from {}\".format(weights_filepath))\n",
    "\n",
    "    output = lstm_generate_midi_output(model, note_events,\n",
    "                                       mode=\"single_melody_harmony\",\n",
    "                                       num_notes_to_generate=num_notes_to_generate,\n",
    "                                       random_seed=False,\n",
    "                                       add_seed_to_output=True,\n",
    "                                       tune_name=tune_name,\n",
    "                                       time_multiplier=time_multiplier,\n",
    "                                       midi_source_filepath=input_filepath,\n",
    "                                       data_dir=\"../data/output\")\n",
    "print(\"Done writing\")"
   ]
  },
  {
   "cell_type": "markdown",
   "metadata": {},
   "source": [
    "Render the original input notes with chords:"
   ]
  },
  {
   "cell_type": "code",
   "execution_count": 31,
   "metadata": {
    "collapsed": false
   },
   "outputs": [
    {
     "data": {
      "text/plain": [
       "'../data/output/ColemanHawkins_BodyAndSoul_FINAL_original.mid'"
      ]
     },
     "execution_count": 31,
     "metadata": {},
     "output_type": "execute_result"
    }
   ],
   "source": [
    "midi_write_file(note_events, os.path.join(\"../data/output/\", \"{}_original.mid\".format(tune_name)),\n",
    "                mode=\"single_melody_harmony\",\n",
    "                time_multiplier=time_multiplier,\n",
    "                midi_source_filepath=input_filepath)\n",
    "# print(\"Wrote to MIDI file at {}\".format(output_filepath))"
   ]
  },
  {
   "cell_type": "markdown",
   "metadata": {},
   "source": [
    "(\n",
    "\n",
    "Run this whenever we want to train the model even further (but don't forget to update the `weights_filepath`):"
   ]
  },
  {
   "cell_type": "code",
   "execution_count": 32,
   "metadata": {
    "collapsed": false
   },
   "outputs": [],
   "source": [
    "# trained = lstm_train_on_midi_input(tune_name=tune_name,\n",
    "#                                    mode=\"single_melody_harmony\",\n",
    "#                                    midi_data_dir=\"../data/midi/quantized/\",\n",
    "#                                    db_beats_filepath=beats_filepath,\n",
    "#                                    db_melody_filepath=melody_filepath,\n",
    "#                                    weights_filepath=None,\n",
    "#                                    seq_length=10,\n",
    "#                                    num_epochs=100)\n",
    "# model, note_events, input_filepath = trained"
   ]
  },
  {
   "cell_type": "markdown",
   "metadata": {},
   "source": [
    ")"
   ]
  },
  {
   "cell_type": "code",
   "execution_count": null,
   "metadata": {
    "collapsed": true
   },
   "outputs": [],
   "source": []
  }
 ],
 "metadata": {
  "kernelspec": {
   "display_name": "Python 3",
   "language": "python",
   "name": "python3"
  },
  "language_info": {
   "codemirror_mode": {
    "name": "ipython",
    "version": 3
   },
   "file_extension": ".py",
   "mimetype": "text/x-python",
   "name": "python",
   "nbconvert_exporter": "python",
   "pygments_lexer": "ipython3",
   "version": "3.5.1"
  }
 },
 "nbformat": 4,
 "nbformat_minor": 2
}
