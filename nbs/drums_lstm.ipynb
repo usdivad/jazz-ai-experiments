{
 "cells": [
  {
   "cell_type": "markdown",
   "metadata": {},
   "source": [
    "# Drums drums drums drums drums\n",
    "\n",
    "Using as input:\n",
    "- Philly Joe Jones - \"Billy Boy\", from Miles Davis' *Milestones* (1958)\n",
    "- Max Roach - \"Jacqui\", from Clifford Brown & Max Roach's *Study in Brown* (1955)\n",
    "- Tony Williams - \"Nefertiti\", from Miles Davis' *Nefertiti* (1967)\n",
    "\n",
    "Transcribed by yours truly"
   ]
  },
  {
   "cell_type": "code",
   "execution_count": 1,
   "metadata": {
    "collapsed": false
   },
   "outputs": [
    {
     "name": "stderr",
     "output_type": "stream",
     "text": [
      "Using TensorFlow backend.\n"
     ]
    }
   ],
   "source": [
    "import os\n",
    "\n",
    "import mido\n",
    "import music21\n",
    "\n",
    "import jazzaiexperiments"
   ]
  },
  {
   "cell_type": "code",
   "execution_count": 2,
   "metadata": {
    "collapsed": true
   },
   "outputs": [],
   "source": [
    "# Billy Boy - Comping\n",
    "# tune_name = \"billyboy_comping\"\n",
    "# input_filepath = \"../data/midi/mine/billyboy/PhillyJoeJones_BillyBoy_Comping_Processed77_NoteLengthsNormalized.mid\"\n",
    "\n",
    "# Billy Boy - Solo\n",
    "# tune_name = \"billyboy_solo\"\n",
    "# input_filepath = \"../data/midi/mine/billyboy/PhillyJoeJones_BillyBoy_Solo_Processed77_NoteLengthsNormalized.mid\"\n",
    "\n",
    "# Jacqui - Solo\n",
    "# tune_name = \"jacqui_solo\"\n",
    "# input_filepath = \"../data/midi/mine/jacqui/MaxRoach_Jacqui_Solo_Processed77.mid\"\n",
    "\n",
    "# Nefertiti - Solo\n",
    "tune_name = \"nefertiti_solo\"\n",
    "input_filepath = \"../data/midi/mine/nefertiti/TonyWilliams_Nefertiti_Solo_Processed77.mid\""
   ]
  },
  {
   "cell_type": "markdown",
   "metadata": {},
   "source": [
    "Let's see if it works just training it in `single_melody` mode:"
   ]
  },
  {
   "cell_type": "code",
   "execution_count": 3,
   "metadata": {
    "collapsed": false
   },
   "outputs": [],
   "source": [
    "# model, note_events, input_filepath = jazzaiexperiments.lstm.train_on_midi_input(tune_name,\n",
    "#                                                                                 mode=\"single_melody\",\n",
    "#                                                                                 input_filepath=input_filepath,\n",
    "#                                                                                 num_epochs=1)\n",
    "# model.summary()"
   ]
  },
  {
   "cell_type": "code",
   "execution_count": 4,
   "metadata": {
    "collapsed": false
   },
   "outputs": [],
   "source": [
    "# model = jazzaiexperiments.lstm.load_model_weights(model, \"../data/models/weights_billyboy_solo_20170706143300474703_99_0.6481.hdf5\")\n",
    "# model.summary()"
   ]
  },
  {
   "cell_type": "code",
   "execution_count": 5,
   "metadata": {
    "collapsed": false
   },
   "outputs": [],
   "source": [
    "# print(\"{} note events\".format(len(note_events)))\n",
    "# print(\"{} unique note events\".format(len(jazzaiexperiments.midi.create_note_set(note_events))))\n",
    "\n",
    "\n",
    "# # jazzaiexperiments.midi.create_note_set(note_events)[:10]\n",
    "# [jazzaiexperiments.midi.note_event_to_dict(evt, \"single_melody\") for evt in jazzaiexperiments.midi.create_note_set(note_events)[:5]]"
   ]
  },
  {
   "cell_type": "code",
   "execution_count": 6,
   "metadata": {
    "collapsed": false
   },
   "outputs": [],
   "source": [
    "# notes_out = jazzaiexperiments.lstm.generate_midi_output(model, note_events,\n",
    "#                                                         num_notes_to_generate=100,\n",
    "#                                                         time_multiplier=4,\n",
    "#                                                         random_seed=False,\n",
    "#                                                         add_seed_to_output=True,\n",
    "#                                                         tune_name=tune_name,\n",
    "#                                                         midi_source_filepath=input_filepath,\n",
    "#                                                         data_dir=\"../data/output\")\n",
    "# notes_out[:20]"
   ]
  },
  {
   "cell_type": "code",
   "execution_count": 7,
   "metadata": {
    "collapsed": false
   },
   "outputs": [],
   "source": [
    "# jazzaiexperiments.midi.write_file(note_events, os.path.join(\"../data/output/\", \"{}_original.mid\".format(tune_name)),\n",
    "#                                   mode=\"single_melody\",\n",
    "#                                   time_multiplier=5,\n",
    "#                                   midi_source_filepath=input_filepath)\n"
   ]
  },
  {
   "cell_type": "markdown",
   "metadata": {},
   "source": [
    "... Not really. Among the issues are lack of **polyphony**, and the **timing** (which is tied to the `time_multiplier`, which has to be manually set every time, which is bad)"
   ]
  },
  {
   "cell_type": "markdown",
   "metadata": {},
   "source": [
    "### Fixing polyphony\n",
    "\n",
    "One problem seems to be that the `single_melody` mode can't really handle notes that occur simultaneously. Thus we have to build in some kind of polyphony handling.\n",
    "\n",
    "Functions to update:\n",
    "- midi.extract_note_pairs\n",
    "- midi.normalize_velocities\n",
    "- midi.create_note_events\n",
    "- lstm.train_on_midi_input"
   ]
  },
  {
   "cell_type": "code",
   "execution_count": 8,
   "metadata": {
    "collapsed": true
   },
   "outputs": [],
   "source": [
    "from jazzaiexperiments import *"
   ]
  },
  {
   "cell_type": "code",
   "execution_count": 9,
   "metadata": {
    "collapsed": false
   },
   "outputs": [
    {
     "data": {
      "text/plain": [
       "[<meta message track_name name='Drum Set\\x00' time=0>,\n",
       " <meta message time_signature numerator=4 denominator=4 clocks_per_click=36 notated_32nd_notes_per_beat=8 time=0>,\n",
       " <meta message time_signature numerator=4 denominator=4 clocks_per_click=36 notated_32nd_notes_per_beat=8 time=0>,\n",
       " <message program_change channel=0 program=0 time=0>,\n",
       " <message control_change channel=0 control=10 value=64 time=0>,\n",
       " <message control_change channel=0 control=64 value=0 time=0>,\n",
       " <message control_change channel=0 control=91 value=19 time=0>,\n",
       " <message note_on channel=0 note=51 velocity=65 time=0>,\n",
       " <message note_off channel=0 note=51 velocity=0 time=0>,\n",
       " <message note_on channel=0 note=38 velocity=62 time=64>,\n",
       " <message note_off channel=0 note=38 velocity=0 time=0>,\n",
       " <message note_on channel=0 note=44 velocity=91 time=32>,\n",
       " <message note_off channel=0 note=44 velocity=0 time=0>,\n",
       " <message note_on channel=0 note=51 velocity=91 time=0>,\n",
       " <message note_off channel=0 note=51 velocity=0 time=0>,\n",
       " <message note_on channel=0 note=38 velocity=81 time=64>,\n",
       " <message note_off channel=0 note=38 velocity=0 time=0>,\n",
       " <message note_on channel=0 note=51 velocity=81 time=0>,\n",
       " <message note_off channel=0 note=51 velocity=0 time=0>,\n",
       " <message note_on channel=0 note=51 velocity=81 time=32>,\n",
       " <message note_off channel=0 note=51 velocity=0 time=0>,\n",
       " <message note_on channel=0 note=38 velocity=62 time=64>,\n",
       " <message note_off channel=0 note=38 velocity=0 time=0>,\n",
       " <message note_on channel=0 note=44 velocity=86 time=32>,\n",
       " <message note_off channel=0 note=44 velocity=0 time=0>,\n",
       " <message note_on channel=0 note=51 velocity=86 time=0>,\n",
       " <message note_off channel=0 note=51 velocity=0 time=0>,\n",
       " <message note_on channel=0 note=51 velocity=78 time=64>,\n",
       " <message note_off channel=0 note=51 velocity=0 time=0>,\n",
       " <message note_on channel=0 note=51 velocity=77 time=32>,\n",
       " <message note_off channel=0 note=51 velocity=0 time=0>,\n",
       " <message note_on channel=0 note=38 velocity=61 time=64>,\n",
       " <message note_off channel=0 note=38 velocity=0 time=0>,\n",
       " <message note_on channel=0 note=38 velocity=61 time=32>,\n",
       " <message note_off channel=0 note=38 velocity=0 time=0>,\n",
       " <message note_on channel=0 note=44 velocity=91 time=0>,\n",
       " <message note_off channel=0 note=44 velocity=0 time=0>,\n",
       " <message note_on channel=0 note=51 velocity=91 time=0>,\n",
       " <message note_off channel=0 note=51 velocity=0 time=0>,\n",
       " <message note_on channel=0 note=51 velocity=81 time=64>,\n",
       " <message note_off channel=0 note=51 velocity=0 time=0>,\n",
       " <message note_on channel=0 note=51 velocity=74 time=32>,\n",
       " <message note_off channel=0 note=51 velocity=0 time=0>,\n",
       " <message note_on channel=0 note=38 velocity=65 time=64>,\n",
       " <message note_off channel=0 note=38 velocity=0 time=0>,\n",
       " <message note_on channel=0 note=44 velocity=102 time=32>,\n",
       " <message note_off channel=0 note=44 velocity=0 time=0>,\n",
       " <message note_on channel=0 note=51 velocity=102 time=0>,\n",
       " <message note_off channel=0 note=51 velocity=0 time=0>,\n",
       " <message note_on channel=0 note=51 velocity=78 time=64>,\n",
       " <message note_off channel=0 note=51 velocity=0 time=0>,\n",
       " <message note_on channel=0 note=51 velocity=73 time=32>,\n",
       " <message note_off channel=0 note=51 velocity=0 time=0>,\n",
       " <message note_on channel=0 note=51 velocity=81 time=32>,\n",
       " <message note_off channel=0 note=51 velocity=0 time=0>,\n",
       " <message note_on channel=0 note=51 velocity=75 time=32>,\n",
       " <message note_off channel=0 note=51 velocity=0 time=0>,\n",
       " <message note_on channel=0 note=49 velocity=79 time=32>,\n",
       " <message note_off channel=0 note=49 velocity=0 time=0>,\n",
       " <message note_on channel=0 note=38 velocity=90 time=64>,\n",
       " <message note_off channel=0 note=38 velocity=0 time=0>,\n",
       " <message note_on channel=0 note=49 velocity=90 time=0>,\n",
       " <message note_off channel=0 note=49 velocity=0 time=0>,\n",
       " <message note_on channel=0 note=47 velocity=82 time=96>,\n",
       " <message note_off channel=0 note=47 velocity=0 time=0>,\n",
       " <message note_on channel=0 note=47 velocity=74 time=32>,\n",
       " <message note_off channel=0 note=47 velocity=0 time=0>,\n",
       " <message note_on channel=0 note=47 velocity=79 time=32>,\n",
       " <message note_off channel=0 note=47 velocity=0 time=0>,\n",
       " <message note_on channel=0 note=38 velocity=77 time=32>,\n",
       " <message note_off channel=0 note=38 velocity=0 time=0>,\n",
       " <message note_on channel=0 note=38 velocity=77 time=32>,\n",
       " <message note_off channel=0 note=38 velocity=0 time=0>,\n",
       " <message note_on channel=0 note=38 velocity=76 time=32>,\n",
       " <message note_off channel=0 note=38 velocity=0 time=0>,\n",
       " <message note_on channel=0 note=36 velocity=111 time=32>,\n",
       " <message note_off channel=0 note=36 velocity=0 time=0>,\n",
       " <message note_on channel=0 note=49 velocity=111 time=0>,\n",
       " <message note_off channel=0 note=49 velocity=0 time=0>,\n",
       " <message note_on channel=0 note=51 velocity=67 time=96>,\n",
       " <message note_off channel=0 note=51 velocity=0 time=0>,\n",
       " <message note_on channel=0 note=51 velocity=72 time=32>,\n",
       " <message note_off channel=0 note=51 velocity=0 time=0>,\n",
       " <message note_on channel=0 note=38 velocity=64 time=64>,\n",
       " <message note_off channel=0 note=38 velocity=0 time=0>,\n",
       " <message note_on channel=0 note=38 velocity=74 time=32>,\n",
       " <message note_off channel=0 note=38 velocity=0 time=0>,\n",
       " <message note_on channel=0 note=44 velocity=94 time=0>,\n",
       " <message note_off channel=0 note=44 velocity=0 time=0>,\n",
       " <message note_on channel=0 note=51 velocity=94 time=0>,\n",
       " <message note_off channel=0 note=51 velocity=0 time=0>,\n",
       " <message note_on channel=0 note=51 velocity=75 time=64>,\n",
       " <message note_off channel=0 note=51 velocity=0 time=0>,\n",
       " <message note_on channel=0 note=51 velocity=75 time=32>,\n",
       " <message note_off channel=0 note=51 velocity=0 time=0>,\n",
       " <message note_on channel=0 note=38 velocity=62 time=64>,\n",
       " <message note_off channel=0 note=38 velocity=0 time=0>,\n",
       " <message note_on channel=0 note=44 velocity=86 time=32>,\n",
       " <message note_off channel=0 note=44 velocity=0 time=0>,\n",
       " <message note_on channel=0 note=51 velocity=86 time=0>]"
      ]
     },
     "execution_count": 9,
     "metadata": {},
     "output_type": "execute_result"
    }
   ],
   "source": [
    "midi_file = mido.MidiFile(input_filepath)\n",
    "midi_track = midi_file.tracks[0]\n",
    "[msg for msg in midi_track[:100]]"
   ]
  },
  {
   "cell_type": "code",
   "execution_count": 10,
   "metadata": {
    "collapsed": false
   },
   "outputs": [
    {
     "name": "stdout",
     "output_type": "stream",
     "text": [
      "Track has 1230 note messages; 615 note pairs created\n",
      "... which means we're missing 0.0 notes\n"
     ]
    }
   ],
   "source": [
    "# From lstm.train_on_midi_input()\n",
    "midi_track = midi.load_melody_from_file(input_filepath)\n",
    "note_pairs = midi.extract_note_pairs(midi_track, mode=\"single_melody\")\n",
    "note_pairs = midi.normalize_velocities(note_pairs, interval=10)\n",
    "print(\"Track has {} note messages; {} note pairs created\".format(len(midi.extract_note_messages(midi_track)), len(note_pairs)))\n",
    "print(\"... which means we're missing {} notes\".format((len(midi.extract_note_messages(midi_track))/2) - len(note_pairs)))"
   ]
  },
  {
   "cell_type": "markdown",
   "metadata": {},
   "source": [
    "So let's redefine our `extract_note_pairs` function:"
   ]
  },
  {
   "cell_type": "code",
   "execution_count": 11,
   "metadata": {
    "collapsed": false
   },
   "outputs": [
    {
     "data": {
      "text/plain": [
       "<message note_off channel=0 note=51 velocity=0 time=0>"
      ]
     },
     "execution_count": 11,
     "metadata": {},
     "output_type": "execute_result"
    }
   ],
   "source": [
    "note_pairs[0][-1]"
   ]
  },
  {
   "cell_type": "code",
   "execution_count": 12,
   "metadata": {
    "collapsed": true
   },
   "outputs": [],
   "source": [
    "def extract_note_pairs(track, enable_polyphony=False):\n",
    "    \"\"\"Extract note on/off pairs from a MIDI track.\n",
    "    \n",
    "    If polyphony is enabled, each pair will actually consist of a list\n",
    "    of note ons and a list of note offs in the form (noteons, noteoffs).\n",
    "    \"\"\"\n",
    "    notes = midi.extract_note_messages(track)\n",
    "    note_pairs = []\n",
    "    if enable_polyphony:\n",
    "        note_pair = ([], [])\n",
    "        for note in notes:\n",
    "            if note.type == \"note_on\":\n",
    "                note_ons = note_pair[0]\n",
    "                note_offs = note_pair[1]\n",
    "                if len(note_ons) < 1 or note.time == 0:\n",
    "                    note_ons.append(note)\n",
    "                    note_pair = (note_ons, note_offs)\n",
    "                else:\n",
    "                    for existing_note in note_ons:\n",
    "                        note_off = mido.Message(\"note_off\",\n",
    "                                                channel=existing_note.channel,\n",
    "                                                note=existing_note.note,\n",
    "                                                velocity=existing_note.velocity,\n",
    "                                                time=note.time)\n",
    "                        note_offs.append(note_off)\n",
    "                    note_pair = (note_ons, note_offs)\n",
    "                    note_pairs.append(note_pair)\n",
    "                    note_pair = ([], [])\n",
    "            elif note.type == \"note_off\":\n",
    "                note_ons = note_pair[0]\n",
    "                note_offs = note_pair[1]\n",
    "                if len(note_ons) > 0:\n",
    "                    for existing_note in note_ons:\n",
    "                        note_off = mido.Message(\"note_off\",\n",
    "                                                channel=existing_note.channel,\n",
    "                                                note=existing_note.note,\n",
    "                                                velocity=existing_note.velocity,\n",
    "                                                time=note.time)\n",
    "                        note_offs.append(note_off)\n",
    "                    note_pair = (note_ons, note_offs)\n",
    "                    note_pairs.append(note_pair)\n",
    "                    note_pair = ([], [])\n",
    "    else:\n",
    "        note_pairs = [(notes[i], notes[i + 1]) for i, _ in enumerate(notes[:-1])\n",
    "                      if notes[i].type == \"note_on\" and\n",
    "                      notes[i + 1].type == \"note_off\" and\n",
    "                      notes[i].note == notes[i + 1].note]\n",
    "    return note_pairs"
   ]
  },
  {
   "cell_type": "code",
   "execution_count": null,
   "metadata": {
    "collapsed": true
   },
   "outputs": [],
   "source": []
  },
  {
   "cell_type": "code",
   "execution_count": 13,
   "metadata": {
    "collapsed": true
   },
   "outputs": [],
   "source": [
    "def normalize_velocities(note_pairs, interval=10):\n",
    "    \"\"\"Normalize note velocities.\"\"\"\n",
    "    for i, note_pair in enumerate(note_pairs):\n",
    "        note_ons, note_offs = note_pair\n",
    "        \n",
    "        if type(note_ons) is list:\n",
    "            for note_on in note_ons:\n",
    "                note_on.velocity = note_on.velocity - (note_on.velocity % interval)\n",
    "        else:\n",
    "            note_on = note_ons\n",
    "            note_on.velocity = note_on.velocity - (note_on.velocity % interval)\n",
    "        \n",
    "        note_pair = (note_ons, note_offs)\n",
    "        note_pairs[i] = note_pair\n",
    "                \n",
    "    return note_pairs"
   ]
  },
  {
   "cell_type": "code",
   "execution_count": 14,
   "metadata": {
    "collapsed": false
   },
   "outputs": [
    {
     "name": "stdout",
     "output_type": "stream",
     "text": [
      "0\n"
     ]
    },
    {
     "data": {
      "text/plain": [
       "[]"
      ]
     },
     "execution_count": 14,
     "metadata": {},
     "output_type": "execute_result"
    }
   ],
   "source": [
    "midi_track = midi.load_melody_from_file(input_filepath)\n",
    "note_pairs = extract_note_pairs(midi_track, enable_polyphony=True)\n",
    "note_pairs = normalize_velocities(note_pairs, interval=10)\n",
    "print(len([(len(note_pair[0]), len(note_pair[1])) for note_pair in note_pairs if len(note_pair[0]) > 1]))\n",
    "[(len(note_pair[0]), len(note_pair[1])) for note_pair in note_pairs if len(note_pair[0]) > 1][:10]"
   ]
  },
  {
   "cell_type": "code",
   "execution_count": 15,
   "metadata": {
    "collapsed": false
   },
   "outputs": [
    {
     "data": {
      "text/plain": [
       "[(0, 1, 1),\n",
       " (1, 1, 1),\n",
       " (2, 1, 1),\n",
       " (3, 1, 1),\n",
       " (4, 1, 1),\n",
       " (5, 1, 1),\n",
       " (6, 1, 1),\n",
       " (7, 1, 1),\n",
       " (8, 1, 1),\n",
       " (9, 1, 1),\n",
       " (10, 1, 1),\n",
       " (11, 1, 1),\n",
       " (12, 1, 1),\n",
       " (13, 1, 1),\n",
       " (14, 1, 1),\n",
       " (15, 1, 1),\n",
       " (16, 1, 1),\n",
       " (17, 1, 1),\n",
       " (18, 1, 1),\n",
       " (19, 1, 1)]"
      ]
     },
     "execution_count": 15,
     "metadata": {},
     "output_type": "execute_result"
    }
   ],
   "source": [
    "[(i, len(note_pair[0]), len(note_pair[1])) for i, note_pair in enumerate(note_pairs)][:20]"
   ]
  },
  {
   "cell_type": "code",
   "execution_count": 16,
   "metadata": {
    "collapsed": false
   },
   "outputs": [
    {
     "data": {
      "text/plain": [
       "615"
      ]
     },
     "execution_count": 16,
     "metadata": {},
     "output_type": "execute_result"
    }
   ],
   "source": [
    "len(note_pairs)"
   ]
  },
  {
   "cell_type": "code",
   "execution_count": 17,
   "metadata": {
    "collapsed": false
   },
   "outputs": [
    {
     "data": {
      "text/plain": [
       "[([<message note_on channel=0 note=51 velocity=60 time=0>],\n",
       "  [<message note_off channel=0 note=51 velocity=65 time=0>]),\n",
       " ([<message note_on channel=0 note=38 velocity=60 time=64>],\n",
       "  [<message note_off channel=0 note=38 velocity=62 time=0>]),\n",
       " ([<message note_on channel=0 note=44 velocity=90 time=32>],\n",
       "  [<message note_off channel=0 note=44 velocity=91 time=0>]),\n",
       " ([<message note_on channel=0 note=51 velocity=90 time=0>],\n",
       "  [<message note_off channel=0 note=51 velocity=91 time=0>]),\n",
       " ([<message note_on channel=0 note=38 velocity=80 time=64>],\n",
       "  [<message note_off channel=0 note=38 velocity=81 time=0>]),\n",
       " ([<message note_on channel=0 note=51 velocity=80 time=0>],\n",
       "  [<message note_off channel=0 note=51 velocity=81 time=0>]),\n",
       " ([<message note_on channel=0 note=51 velocity=80 time=32>],\n",
       "  [<message note_off channel=0 note=51 velocity=81 time=0>]),\n",
       " ([<message note_on channel=0 note=38 velocity=60 time=64>],\n",
       "  [<message note_off channel=0 note=38 velocity=62 time=0>]),\n",
       " ([<message note_on channel=0 note=44 velocity=80 time=32>],\n",
       "  [<message note_off channel=0 note=44 velocity=86 time=0>]),\n",
       " ([<message note_on channel=0 note=51 velocity=80 time=0>],\n",
       "  [<message note_off channel=0 note=51 velocity=86 time=0>])]"
      ]
     },
     "execution_count": 17,
     "metadata": {},
     "output_type": "execute_result"
    }
   ],
   "source": [
    "note_pairs[:10]"
   ]
  },
  {
   "cell_type": "markdown",
   "metadata": {},
   "source": [
    "Alright, let's see if that works with the rest of the input pipeline:"
   ]
  },
  {
   "cell_type": "code",
   "execution_count": 18,
   "metadata": {
    "collapsed": false
   },
   "outputs": [],
   "source": [
    "def create_note_events(note_pairs, mode=\"single_melody\", chords=[]):\n",
    "    \"\"\"Create note events from note pairs.\n",
    "\n",
    "    This is the base data structure for note manipulation.\n",
    "    \"\"\"\n",
    "    note_events = []\n",
    "    if mode == \"single_melody\":\n",
    "        note_events = [(note_on.note, note_on.velocity,\n",
    "                        note_on.time, note_off.time)\n",
    "                       for note_on, note_off in note_pairs]\n",
    "    elif mode == \"single_melody_harmony\":\n",
    "        if len(chords) < len(note_pairs):\n",
    "            print(\"ERROR: Number of chords must match number of melody notes!\")\n",
    "            return note_events\n",
    "\n",
    "        note_events = [(note_on.note, note_on.velocity,\n",
    "                        note_on.time, note_off.time,\n",
    "                        chords[i])\n",
    "                       for i, (note_on, note_off) in enumerate(note_pairs)]\n",
    "    elif mode == \"drums\":\n",
    "        for note_pair in note_pairs:\n",
    "            note_ons = note_pair[0]\n",
    "            note_offs = note_pair[1]\n",
    "            \n",
    "            note_on_list = [(note_on.note, note_on.velocity) for note_on in note_ons]\n",
    "            note_on_list = sorted(note_on_list, key=lambda x: x[0])\n",
    "            note_on_time = note_ons[0].time\n",
    "            note_off_time = note_offs[0].time\n",
    "            # print([note_off.time for note_off in note_offs])  # Should all be equal\n",
    "\n",
    "            note_event = (note_on_list, note_on_time, note_off_time)\n",
    "            note_events.append(note_event)\n",
    "\n",
    "    return note_events"
   ]
  },
  {
   "cell_type": "code",
   "execution_count": 19,
   "metadata": {
    "collapsed": false
   },
   "outputs": [
    {
     "data": {
      "text/plain": [
       "92"
      ]
     },
     "execution_count": 19,
     "metadata": {},
     "output_type": "execute_result"
    }
   ],
   "source": [
    "note_events = create_note_events(note_pairs, mode=\"drums\")\n",
    "note_events_hashable = [(str(e[0]), e[1], e[2]) for e in note_events]\n",
    "note_set = midi.create_note_set(note_events_hashable)\n",
    "len(note_set)"
   ]
  },
  {
   "cell_type": "code",
   "execution_count": 20,
   "metadata": {
    "collapsed": false
   },
   "outputs": [
    {
     "data": {
      "text/plain": [
       "615"
      ]
     },
     "execution_count": 20,
     "metadata": {},
     "output_type": "execute_result"
    }
   ],
   "source": [
    "len(note_events)"
   ]
  },
  {
   "cell_type": "code",
   "execution_count": 21,
   "metadata": {
    "collapsed": false
   },
   "outputs": [
    {
     "data": {
      "text/plain": [
       "[([(51, 60)], 0, 0),\n",
       " ([(38, 60)], 64, 0),\n",
       " ([(44, 90)], 32, 0),\n",
       " ([(51, 90)], 0, 0),\n",
       " ([(38, 80)], 64, 0),\n",
       " ([(51, 80)], 0, 0),\n",
       " ([(51, 80)], 32, 0),\n",
       " ([(38, 60)], 64, 0),\n",
       " ([(44, 80)], 32, 0),\n",
       " ([(51, 80)], 0, 0),\n",
       " ([(51, 70)], 64, 0),\n",
       " ([(51, 70)], 32, 0),\n",
       " ([(38, 60)], 64, 0),\n",
       " ([(38, 60)], 32, 0),\n",
       " ([(44, 90)], 0, 0),\n",
       " ([(51, 90)], 0, 0),\n",
       " ([(51, 80)], 64, 0),\n",
       " ([(51, 70)], 32, 0),\n",
       " ([(38, 60)], 64, 0),\n",
       " ([(44, 100)], 32, 0),\n",
       " ([(51, 100)], 0, 0),\n",
       " ([(51, 70)], 64, 0),\n",
       " ([(51, 70)], 32, 0),\n",
       " ([(51, 80)], 32, 0),\n",
       " ([(51, 70)], 32, 0),\n",
       " ([(49, 70)], 32, 0),\n",
       " ([(38, 90)], 64, 0),\n",
       " ([(49, 90)], 0, 0),\n",
       " ([(47, 80)], 96, 0),\n",
       " ([(47, 70)], 32, 0),\n",
       " ([(47, 70)], 32, 0),\n",
       " ([(38, 70)], 32, 0),\n",
       " ([(38, 70)], 32, 0),\n",
       " ([(38, 70)], 32, 0),\n",
       " ([(36, 110)], 32, 0),\n",
       " ([(49, 110)], 0, 0),\n",
       " ([(51, 60)], 96, 0),\n",
       " ([(51, 70)], 32, 0),\n",
       " ([(38, 60)], 64, 0),\n",
       " ([(38, 70)], 32, 0),\n",
       " ([(44, 90)], 0, 0),\n",
       " ([(51, 90)], 0, 0),\n",
       " ([(51, 70)], 64, 0),\n",
       " ([(51, 70)], 32, 0),\n",
       " ([(38, 60)], 64, 0),\n",
       " ([(44, 80)], 32, 0),\n",
       " ([(51, 80)], 0, 0),\n",
       " ([(38, 70)], 64, 0),\n",
       " ([(51, 70)], 0, 0),\n",
       " ([(51, 70)], 32, 0),\n",
       " ([(51, 70)], 64, 0),\n",
       " ([(38, 70)], 32, 0),\n",
       " ([(44, 70)], 0, 0),\n",
       " ([(51, 70)], 0, 0),\n",
       " ([(51, 70)], 64, 0),\n",
       " ([(51, 70)], 32, 0),\n",
       " ([(51, 70)], 64, 0),\n",
       " ([(38, 90)], 32, 0),\n",
       " ([(44, 90)], 0, 0),\n",
       " ([(49, 90)], 0, 0),\n",
       " ([(51, 60)], 96, 0),\n",
       " ([(38, 70)], 64, 0),\n",
       " ([(51, 70)], 0, 0),\n",
       " ([(44, 70)], 32, 0),\n",
       " ([(51, 70)], 0, 0),\n",
       " ([(38, 60)], 64, 0),\n",
       " ([(51, 90)], 32, 0),\n",
       " ([(47, 60)], 64, 0),\n",
       " ([(38, 70)], 32, 0),\n",
       " ([(38, 70)], 32, 0),\n",
       " ([(36, 110)], 32, 0),\n",
       " ([(38, 70)], 0, 0),\n",
       " ([(49, 110)], 0, 0),\n",
       " ([(51, 60)], 128, 0),\n",
       " ([(38, 70)], 64, 0),\n",
       " ([(51, 70)], 0, 0),\n",
       " ([(51, 70)], 32, 0),\n",
       " ([(38, 90)], 64, 0),\n",
       " ([(49, 90)], 0, 0),\n",
       " ([(43, 60)], 96, 0),\n",
       " ([(47, 80)], 0, 0),\n",
       " ([(43, 60)], 32, 0),\n",
       " ([(47, 80)], 0, 0),\n",
       " ([(47, 80)], 32, 0),\n",
       " ([(36, 100)], 32, 0),\n",
       " ([(49, 100)], 0, 0),\n",
       " ([(36, 90)], 32, 0),\n",
       " ([(49, 90)], 0, 0),\n",
       " ([(38, 70)], 64, 0),\n",
       " ([(38, 70)], 32, 0),\n",
       " ([(38, 70)], 32, 0),\n",
       " ([(36, 60)], 32, 0),\n",
       " ([(36, 80)], 32, 0),\n",
       " ([(49, 80)], 0, 0),\n",
       " ([(51, 60)], 64, 0),\n",
       " ([(51, 70)], 32, 0),\n",
       " ([(38, 60)], 64, 0),\n",
       " ([(51, 80)], 32, 0),\n",
       " ([(36, 60)], 64, 0),\n",
       " ([(36, 110)], 32, 0)]"
      ]
     },
     "execution_count": 21,
     "metadata": {},
     "output_type": "execute_result"
    }
   ],
   "source": [
    "note_events[:100]"
   ]
  },
  {
   "cell_type": "markdown",
   "metadata": {},
   "source": [
    "### Fixing polyphony, take 2"
   ]
  },
  {
   "cell_type": "markdown",
   "metadata": {},
   "source": [
    "Let's try this again. This time we'll just try to get the soonest note off for each note on. And since the time delta for certain note ons will be 0, this should achieve the same effect as manually handling polyphony.\n",
    "\n",
    "Functions to update:\n",
    "- midi.extract_note_pairs"
   ]
  },
  {
   "cell_type": "code",
   "execution_count": 22,
   "metadata": {
    "collapsed": false
   },
   "outputs": [],
   "source": [
    "def extract_note_pairs(track):\n",
    "    \"\"\"Extract note on/off pairs from a MIDI track.\"\"\"\n",
    "    notes = midi.extract_note_messages(track)\n",
    "    note_pairs = []\n",
    "    \n",
    "    # TODO: Test that this method still works for the old modes\n",
    "    # `single_melody` and `single_melody_harmony`\n",
    "    for i, note in enumerate(notes):\n",
    "        if note.type == \"note_on\":\n",
    "            # Register our note on\n",
    "            note_on = note\n",
    "            \n",
    "            # Find the earliest subsequent note off for this note on,\n",
    "            # and then create a note pair out of it\n",
    "            for other_note in notes[i:]:\n",
    "                if other_note.type == \"note_off\" \\\n",
    "                and other_note.note == note.note \\\n",
    "                and other_note.time != 0:\n",
    "                    note_off = other_note\n",
    "                    note_pairs.append((note_on, note_off))\n",
    "                    break\n",
    "    \n",
    "    # Old method where we don't look beyond the note immediately following\n",
    "    # the note on event\n",
    "    # note_pairs = [(notes[i], notes[i + 1]) for i, _ in enumerate(notes[:-1])\n",
    "    #               if notes[i].type == \"note_on\" and\n",
    "    #               notes[i + 1].type == \"note_off\" and\n",
    "    #               notes[i].note == notes[i + 1].note]\n",
    "\n",
    "    return note_pairs"
   ]
  },
  {
   "cell_type": "code",
   "execution_count": 23,
   "metadata": {
    "collapsed": false
   },
   "outputs": [
    {
     "data": {
      "text/plain": [
       "615"
      ]
     },
     "execution_count": 23,
     "metadata": {},
     "output_type": "execute_result"
    }
   ],
   "source": [
    "midi_track = midi.load_melody_from_file(input_filepath)\n",
    "note_pairs = midi.extract_note_pairs(midi_track, mode=\"drums\")\n",
    "note_pairs = midi.normalize_velocities(note_pairs, interval=10)\n",
    "len(note_pairs)"
   ]
  },
  {
   "cell_type": "code",
   "execution_count": 24,
   "metadata": {
    "collapsed": false
   },
   "outputs": [
    {
     "data": {
      "text/plain": [
       "[(<message note_on channel=0 note=51 velocity=60 time=0>,\n",
       "  <message note_off channel=0 note=51 velocity=65 time=32>),\n",
       " (<message note_on channel=0 note=38 velocity=60 time=64>,\n",
       "  <message note_off channel=0 note=38 velocity=62 time=32>),\n",
       " (<message note_on channel=0 note=44 velocity=90 time=32>,\n",
       "  <message note_off channel=0 note=44 velocity=91 time=32>),\n",
       " (<message note_on channel=0 note=51 velocity=90 time=0>,\n",
       "  <message note_off channel=0 note=51 velocity=91 time=32>),\n",
       " (<message note_on channel=0 note=38 velocity=80 time=64>,\n",
       "  <message note_off channel=0 note=38 velocity=81 time=32>),\n",
       " (<message note_on channel=0 note=51 velocity=80 time=0>,\n",
       "  <message note_off channel=0 note=51 velocity=81 time=32>),\n",
       " (<message note_on channel=0 note=51 velocity=80 time=32>,\n",
       "  <message note_off channel=0 note=51 velocity=81 time=32>),\n",
       " (<message note_on channel=0 note=38 velocity=60 time=64>,\n",
       "  <message note_off channel=0 note=38 velocity=62 time=32>),\n",
       " (<message note_on channel=0 note=44 velocity=80 time=32>,\n",
       "  <message note_off channel=0 note=44 velocity=86 time=32>),\n",
       " (<message note_on channel=0 note=51 velocity=80 time=0>,\n",
       "  <message note_off channel=0 note=51 velocity=86 time=32>)]"
      ]
     },
     "execution_count": 24,
     "metadata": {},
     "output_type": "execute_result"
    }
   ],
   "source": [
    "note_pairs[:10]"
   ]
  },
  {
   "cell_type": "code",
   "execution_count": 25,
   "metadata": {
    "collapsed": false
   },
   "outputs": [
    {
     "data": {
      "text/plain": [
       "159"
      ]
     },
     "execution_count": 25,
     "metadata": {},
     "output_type": "execute_result"
    }
   ],
   "source": [
    "# Number of notes that immediately follow the previous note\n",
    "len([1 for note_pair in note_pairs if note_pair[0].time == 0])"
   ]
  },
  {
   "cell_type": "code",
   "execution_count": 26,
   "metadata": {
    "collapsed": false
   },
   "outputs": [
    {
     "data": {
      "text/plain": [
       "92"
      ]
     },
     "execution_count": 26,
     "metadata": {},
     "output_type": "execute_result"
    }
   ],
   "source": [
    "note_events = midi.create_note_events(note_pairs, mode=\"drums\")\n",
    "note_set = midi.create_note_set(note_events)\n",
    "len(note_set)"
   ]
  },
  {
   "cell_type": "code",
   "execution_count": 27,
   "metadata": {
    "collapsed": false
   },
   "outputs": [
    {
     "data": {
      "text/plain": [
       "[(51, 60, 0, 32),\n",
       " (38, 60, 64, 32),\n",
       " (44, 90, 32, 32),\n",
       " (51, 90, 0, 32),\n",
       " (38, 80, 64, 32),\n",
       " (51, 80, 0, 32),\n",
       " (51, 80, 32, 32),\n",
       " (38, 60, 64, 32),\n",
       " (44, 80, 32, 32),\n",
       " (51, 80, 0, 32),\n",
       " (51, 70, 64, 32),\n",
       " (51, 70, 32, 32),\n",
       " (38, 60, 64, 32),\n",
       " (38, 60, 32, 32),\n",
       " (44, 90, 0, 32),\n",
       " (51, 90, 0, 32),\n",
       " (51, 80, 64, 32),\n",
       " (51, 70, 32, 32),\n",
       " (38, 60, 64, 32),\n",
       " (44, 100, 32, 32)]"
      ]
     },
     "execution_count": 27,
     "metadata": {},
     "output_type": "execute_result"
    }
   ],
   "source": [
    "note_events[:20]"
   ]
  },
  {
   "cell_type": "markdown",
   "metadata": {},
   "source": [
    "OK brb let's add this to the module!"
   ]
  },
  {
   "cell_type": "code",
   "execution_count": null,
   "metadata": {
    "collapsed": true
   },
   "outputs": [],
   "source": []
  },
  {
   "cell_type": "markdown",
   "metadata": {},
   "source": [
    "### Training and generating, with polyphony handling (supposedly) added\n",
    "\n",
    "We'll keep updating/adding previous sections (in addition to the actual `jazzaiexperiments` module) until this one does what we want"
   ]
  },
  {
   "cell_type": "code",
   "execution_count": 28,
   "metadata": {
    "collapsed": false
   },
   "outputs": [],
   "source": [
    "# import importlib\n",
    "# importlib.reload(jazzaiexperiments)"
   ]
  },
  {
   "cell_type": "code",
   "execution_count": 29,
   "metadata": {
    "collapsed": false
   },
   "outputs": [],
   "source": [
    "# %load_ext autoreload\n",
    "# %autoreload 2"
   ]
  },
  {
   "cell_type": "markdown",
   "metadata": {},
   "source": [
    "^ these didn't quite work unfortunately, so we'll just restart the kernel"
   ]
  },
  {
   "cell_type": "code",
   "execution_count": 30,
   "metadata": {
    "collapsed": false
   },
   "outputs": [],
   "source": [
    "jazzaiexperiments.midi.extract_note_pairs??"
   ]
  },
  {
   "cell_type": "code",
   "execution_count": 31,
   "metadata": {
    "collapsed": true
   },
   "outputs": [],
   "source": [
    "jazzaiexperiments.midi.create_note_events??"
   ]
  },
  {
   "cell_type": "code",
   "execution_count": 32,
   "metadata": {
    "collapsed": false,
    "scrolled": true
   },
   "outputs": [
    {
     "name": "stdout",
     "output_type": "stream",
     "text": [
      "Created 615 note events from ../data/midi/mine/nefertiti/TonyWilliams_Nefertiti_Solo_Processed77.mid using mode drums\n",
      "Formatted note data (605 seqs of length 10, 92 unique notes)\n",
      "Created model\n",
      "No weights loaded (to load weights, specify a `weights_filepath`)\n",
      "No training needed (`num_epochs` specified as 0)\n"
     ]
    }
   ],
   "source": [
    "model, note_events, input_filepath = jazzaiexperiments.lstm.train_on_midi_input(tune_name,\n",
    "                                                                                mode=\"drums\",\n",
    "                                                                                input_filepath=input_filepath,\n",
    "                                                                                num_epochs=0)"
   ]
  },
  {
   "cell_type": "code",
   "execution_count": 33,
   "metadata": {
    "collapsed": false
   },
   "outputs": [],
   "source": [
    "# # Use this when we want to train the model\n",
    "# model, note_events, input_filepath = jazzaiexperiments.lstm.train_on_midi_input(tune_name,\n",
    "#                                                                                 mode=\"drums\",\n",
    "#                                                                                 input_filepath=input_filepath,\n",
    "#                                                                                 num_epochs=100)"
   ]
  },
  {
   "cell_type": "code",
   "execution_count": 34,
   "metadata": {
    "collapsed": false
   },
   "outputs": [
    {
     "name": "stdout",
     "output_type": "stream",
     "text": [
      "_________________________________________________________________\n",
      "Layer (type)                 Output Shape              Param #   \n",
      "=================================================================\n",
      "lstm_1 (LSTM)                (None, 10, 256)           264192    \n",
      "_________________________________________________________________\n",
      "dropout_1 (Dropout)          (None, 10, 256)           0         \n",
      "_________________________________________________________________\n",
      "lstm_2 (LSTM)                (None, 256)               525312    \n",
      "_________________________________________________________________\n",
      "dropout_2 (Dropout)          (None, 256)               0         \n",
      "_________________________________________________________________\n",
      "dense_1 (Dense)              (None, 92)                23644     \n",
      "=================================================================\n",
      "Total params: 813,148\n",
      "Trainable params: 813,148\n",
      "Non-trainable params: 0\n",
      "_________________________________________________________________\n"
     ]
    }
   ],
   "source": [
    "# Load weights!\n",
    "\n",
    "if tune_name == \"billyboy_comping\":\n",
    "    # Billy Boy - Comping - 10 epochs\n",
    "    # model = jazzaiexperiments.lstm.load_model_weights(model, \"../data/models/weights_billyboy_comping_20170707110205169657_08_2.4435.hdf5\")\n",
    "\n",
    "    # Billy Boy - Comping - 50 epochs\n",
    "    # model = jazzaiexperiments.lstm.load_model_weights(model, \"../data/models/weights_billyboy_comping_20170707110205169657_49_0.7388.hdf5\")\n",
    "\n",
    "    # Billy Boy - Comping - 100 epochs\n",
    "    model = jazzaiexperiments.lstm.load_model_weights(model, \"../data/models/weights_billyboy_comping_20170707110205169657_94_0.3596.hdf5\")\n",
    "\n",
    "elif tune_name == \"billyboy_solo\":\n",
    "    # Solo - 50 epochs\n",
    "    # model = jazzaiexperiments.lstm.load_model_weights(model, \"../data/models/weights_billyboy_solo_20170707094109480946_49_0.8445.hdf5\")\n",
    "\n",
    "    # Solo - 100 epochs\n",
    "    model = jazzaiexperiments.lstm.load_model_weights(model, \"../data/models/weights_billyboy_solo_20170707094109480946_99_0.3539.hdf5\")\n",
    "\n",
    "elif tune_name == \"jacqui\":\n",
    "    # 50 epochs\n",
    "    model = jazzaiexperiments.lstm.load_model_weights(model, \"../data/models/weights_jacqui_solo_20170707140241131586_49_2.9469.hdf5\")\n",
    "\n",
    "    # 100 epochs\n",
    "    model = jazzaiexperiments.lstm.load_model_weights(model, \"../data/models/weights_jacqui_solo_20170707140241131586_99_1.4552.hdf5\")\n",
    "\n",
    "elif tune_name == \"nefertiti\":\n",
    "    # 50 epochs\n",
    "    # model = jazzaiexperiments.lstm.load_model_weights(model, \"../data/models/weights_nefertiti_solo_20170707143156943332_49_1.4981.hdf5\")\n",
    "\n",
    "    # 100 epochs\n",
    "    model = jazzaiexperiments.lstm.load_model_weights(model, \"../data/models/weights_nefertiti_solo_20170707143156943332_98_0.2406.hdf5\")\n",
    "\n",
    "model.summary()"
   ]
  },
  {
   "cell_type": "code",
   "execution_count": 35,
   "metadata": {
    "collapsed": false
   },
   "outputs": [
    {
     "name": "stdout",
     "output_type": "stream",
     "text": [
      "Constructed input sequence: [73, 16, 41, 84, 22, 81, 82, 16, 39, 81]\n",
      "Generated 200 notes\n",
      "Wrote to MIDI file at ../data/output/out_nefertiti_solo_20170707152203626422.mid\n"
     ]
    },
    {
     "data": {
      "text/plain": [
       "[(51, 60, 0, 32),\n",
       " (38, 60, 64, 32),\n",
       " (44, 90, 32, 32),\n",
       " (51, 90, 0, 32),\n",
       " (38, 80, 64, 32),\n",
       " (51, 80, 0, 32),\n",
       " (51, 80, 32, 32),\n",
       " (38, 60, 64, 32),\n",
       " (44, 80, 32, 32),\n",
       " (51, 80, 0, 32),\n",
       " (51, 60, 64, 32),\n",
       " (51, 110, 0, 32),\n",
       " (51, 110, 0, 32),\n",
       " (51, 110, 0, 32),\n",
       " (51, 110, 0, 32),\n",
       " (51, 110, 0, 32),\n",
       " (51, 110, 0, 32),\n",
       " (51, 110, 0, 32),\n",
       " (51, 60, 64, 32),\n",
       " (51, 60, 64, 32)]"
      ]
     },
     "execution_count": 35,
     "metadata": {},
     "output_type": "execute_result"
    }
   ],
   "source": [
    "output = jazzaiexperiments.lstm.generate_midi_output(model, note_events,\n",
    "                                                     mode=\"drums\",\n",
    "                                                     num_notes_to_generate=200,\n",
    "                                                     time_multiplier=5,\n",
    "                                                     random_seed=False,\n",
    "                                                     add_seed_to_output=True,\n",
    "                                                     tune_name=tune_name,\n",
    "                                                     midi_source_filepath=input_filepath,\n",
    "                                                     data_dir=\"../data/output\")\n",
    "notes_out, output_filepath = output\n",
    "notes_out[:20]"
   ]
  },
  {
   "cell_type": "code",
   "execution_count": 36,
   "metadata": {
    "collapsed": false
   },
   "outputs": [],
   "source": [
    "# # TESTING: Sanity check output of the original note events (to see whether it matches the original MIDI file)\n",
    "# m = jazzaiexperiments.midi.write_file(note_events, os.path.join(\"../data/output/\", \"{}_original.mid\".format(tune_name)),\n",
    "#                                       mode=\"drums\",\n",
    "#                                       time_multiplier=5,\n",
    "#                                       midi_source_filepath=input_filepath)\n",
    "\n",
    "# midi_file_out, output_filepath = m\n",
    "# [msg for msg in midi_file_out.tracks[0]][:20]"
   ]
  },
  {
   "cell_type": "markdown",
   "metadata": {},
   "source": [
    "~~OK, it's getting closer. But the output method needs to be adjusted so that the `note_off` of a note pair only happens after all subsequent `note_on`s with `time==0` happen. Otherwise it just sounds weirdly staggered~~"
   ]
  },
  {
   "cell_type": "code",
   "execution_count": 37,
   "metadata": {
    "collapsed": false
   },
   "outputs": [
    {
     "data": {
      "text/plain": [
       "('noteon_pitch', 'noteon_velocity', 'noteon_time', 'noteoff_time')"
      ]
     },
     "execution_count": 37,
     "metadata": {},
     "output_type": "execute_result"
    }
   ],
   "source": [
    "jazzaiexperiments.midi.get_note_event_keys(mode=\"drums\")"
   ]
  },
  {
   "cell_type": "markdown",
   "metadata": {},
   "source": [
    "Aha! So the trick was to just normalize the note lengths of the original MIDI file. So that they're all the same length. And this way we can create note off events dynamically without having to worry about the time delta.\n",
    "\n",
    "For implementation details, see `jazzaiexperiments.midi.extract_note_pairs()` and `jazzaiexperiments.midi.write_file()` where `mode` is set to `drum`.\n",
    "\n",
    "**TODO: Make a process that automatically performs this note length normalizing**"
   ]
  },
  {
   "cell_type": "markdown",
   "metadata": {},
   "source": [
    "### Thoughts and feelings (7/7)\n",
    "\n",
    "In general, the model tends to get trapped in local loops, for both comping and soloing. For the solo, it starts to repeat the same 4 bars over and over again, while for comping it repeats the same half-measure.\n",
    "\n",
    "Perhaps this has something to do with the swing pattern dominating the note choices? Might be worth trying with another solo e.g. \"Black Nile\".\n",
    "\n",
    "Similarly, perhaps there's a better way to encode polyphony that doesn't lead to the model getting so \"stuck\".\n",
    "\n",
    "Of course, it could just be down to the limitations of RNNs (which seem especially apparent here, more so than with the melody and harmony examples). It's definitely worth thinking about any adjustments that can be made on that end, both in terms of parameters and overall architecture.\n",
    "\n",
    "**After training with \"Jacqui\" and \"Nefertiti\" as input:** The results here are somewhat better (around a similar quality and with similar characteristics as the melody and harmony experiments), so perhaps the issue with \"Billy Boy\" is the \"trade-fours\" nature of the solo and the heavy recurrence of the swing beat, which seems to trip up the model. The issues mentioned are still worth exploring for all the examples though."
   ]
  },
  {
   "cell_type": "markdown",
   "metadata": {},
   "source": [
    "### Fixing MIDI timing\n",
    "\n",
    "So that we can FINALLY eliminate the need for the `time_multiplier`.."
   ]
  },
  {
   "cell_type": "code",
   "execution_count": 38,
   "metadata": {
    "collapsed": true
   },
   "outputs": [],
   "source": [
    "# TODO"
   ]
  },
  {
   "cell_type": "code",
   "execution_count": null,
   "metadata": {
    "collapsed": true
   },
   "outputs": [],
   "source": []
  }
 ],
 "metadata": {
  "kernelspec": {
   "display_name": "Python 3",
   "language": "python",
   "name": "python3"
  },
  "language_info": {
   "codemirror_mode": {
    "name": "ipython",
    "version": 3
   },
   "file_extension": ".py",
   "mimetype": "text/x-python",
   "name": "python",
   "nbconvert_exporter": "python",
   "pygments_lexer": "ipython3",
   "version": "3.5.1"
  }
 },
 "nbformat": 4,
 "nbformat_minor": 2
}
